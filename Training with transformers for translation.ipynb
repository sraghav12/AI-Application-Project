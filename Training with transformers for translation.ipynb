{
 "cells": [
  {
   "attachments": {},
   "cell_type": "markdown",
   "id": "cc31cf0c",
   "metadata": {
    "papermill": {
     "duration": 0.020423,
     "end_time": "2022-07-13T15:24:59.227681",
     "exception": false,
     "start_time": "2022-07-13T15:24:59.207258",
     "status": "completed"
    },
    "tags": []
   },
   "source": [
    "To get a detailed look into this journey [How transformers work](https://towardsdatascience.com/transformers-141e32e69591) can be referred"
   ]
  },
  {
   "cell_type": "code",
   "execution_count": 1,
   "id": "53a0dfa3",
   "metadata": {
    "_cell_guid": "b1076dfc-b9ad-4769-8c92-a6c4dae69d19",
    "_uuid": "8f2839f25d086af736a60e9eeb907d3b93b6e0e5",
    "execution": {
     "iopub.execute_input": "2022-07-13T15:24:59.387279Z",
     "iopub.status.busy": "2022-07-13T15:24:59.386557Z",
     "iopub.status.idle": "2022-07-13T15:24:59.406199Z",
     "shell.execute_reply": "2022-07-13T15:24:59.405185Z"
    },
    "papermill": {
     "duration": 0.043501,
     "end_time": "2022-07-13T15:24:59.409016",
     "exception": false,
     "start_time": "2022-07-13T15:24:59.365515",
     "status": "completed"
    },
    "tags": []
   },
   "outputs": [],
   "source": [
    "\n",
    "import numpy as np # linear algebra\n",
    "import pandas as pd # data processing, CSV file I/O (e.g. pd.read_csv)\n"
   ]
  },
  {
   "cell_type": "code",
   "execution_count": 2,
   "id": "2b06c1e8",
   "metadata": {
    "execution": {
     "iopub.execute_input": "2022-07-13T15:24:59.487545Z",
     "iopub.status.busy": "2022-07-13T15:24:59.486831Z",
     "iopub.status.idle": "2022-07-13T15:25:00.957352Z",
     "shell.execute_reply": "2022-07-13T15:25:00.955689Z"
    },
    "papermill": {
     "duration": 1.493619,
     "end_time": "2022-07-13T15:25:00.960174",
     "exception": false,
     "start_time": "2022-07-13T15:24:59.466555",
     "status": "completed"
    },
    "tags": []
   },
   "outputs": [],
   "source": [
    "data=pd.read_csv(\"Hindi_English_Truncated_Corpus.csv\")"
   ]
  },
  {
   "cell_type": "code",
   "execution_count": 3,
   "id": "7813cf73",
   "metadata": {
    "execution": {
     "iopub.execute_input": "2022-07-13T15:25:01.004066Z",
     "iopub.status.busy": "2022-07-13T15:25:01.003608Z",
     "iopub.status.idle": "2022-07-13T15:25:01.028752Z",
     "shell.execute_reply": "2022-07-13T15:25:01.027640Z"
    },
    "papermill": {
     "duration": 0.050047,
     "end_time": "2022-07-13T15:25:01.030997",
     "exception": false,
     "start_time": "2022-07-13T15:25:00.980950",
     "status": "completed"
    },
    "tags": []
   },
   "outputs": [
    {
     "data": {
      "text/html": [
       "<div>\n",
       "<style scoped>\n",
       "    .dataframe tbody tr th:only-of-type {\n",
       "        vertical-align: middle;\n",
       "    }\n",
       "\n",
       "    .dataframe tbody tr th {\n",
       "        vertical-align: top;\n",
       "    }\n",
       "\n",
       "    .dataframe thead th {\n",
       "        text-align: right;\n",
       "    }\n",
       "</style>\n",
       "<table border=\"1\" class=\"dataframe\">\n",
       "  <thead>\n",
       "    <tr style=\"text-align: right;\">\n",
       "      <th></th>\n",
       "      <th>source</th>\n",
       "      <th>english_sentence</th>\n",
       "      <th>hindi_sentence</th>\n",
       "    </tr>\n",
       "  </thead>\n",
       "  <tbody>\n",
       "    <tr>\n",
       "      <th>0</th>\n",
       "      <td>ted</td>\n",
       "      <td>politicians do not have permission to do what ...</td>\n",
       "      <td>राजनीतिज्ञों के पास जो कार्य करना चाहिए, वह कर...</td>\n",
       "    </tr>\n",
       "    <tr>\n",
       "      <th>1</th>\n",
       "      <td>ted</td>\n",
       "      <td>I'd like to tell you about one such child,</td>\n",
       "      <td>मई आपको ऐसे ही एक बच्चे के बारे में बताना चाहू...</td>\n",
       "    </tr>\n",
       "    <tr>\n",
       "      <th>2</th>\n",
       "      <td>indic2012</td>\n",
       "      <td>This percentage is even greater than the perce...</td>\n",
       "      <td>यह प्रतिशत भारत में हिन्दुओं प्रतिशत से अधिक है।</td>\n",
       "    </tr>\n",
       "    <tr>\n",
       "      <th>3</th>\n",
       "      <td>ted</td>\n",
       "      <td>what we really mean is that they're bad at not...</td>\n",
       "      <td>हम ये नहीं कहना चाहते कि वो ध्यान नहीं दे पाते</td>\n",
       "    </tr>\n",
       "    <tr>\n",
       "      <th>4</th>\n",
       "      <td>indic2012</td>\n",
       "      <td>.The ending portion of these Vedas is called U...</td>\n",
       "      <td>इन्हीं वेदों का अंतिम भाग उपनिषद कहलाता है।</td>\n",
       "    </tr>\n",
       "    <tr>\n",
       "      <th>5</th>\n",
       "      <td>tides</td>\n",
       "      <td>The then Governor of Kashmir resisted transfer...</td>\n",
       "      <td>कश्मीर के तत्कालीन गवर्नर ने इस हस्तांतरण का व...</td>\n",
       "    </tr>\n",
       "    <tr>\n",
       "      <th>6</th>\n",
       "      <td>indic2012</td>\n",
       "      <td>In this lies the circumstances of people befor...</td>\n",
       "      <td>इसमें तुमसे पूर्व गुज़रे हुए लोगों के हालात हैं।</td>\n",
       "    </tr>\n",
       "    <tr>\n",
       "      <th>7</th>\n",
       "      <td>ted</td>\n",
       "      <td>And who are we to say, even, that they are wrong</td>\n",
       "      <td>और हम होते कौन हैं यह कहने भी वाले कि वे गलत हैं</td>\n",
       "    </tr>\n",
       "    <tr>\n",
       "      <th>8</th>\n",
       "      <td>indic2012</td>\n",
       "      <td>“”Global Warming“” refer to warming caused in ...</td>\n",
       "      <td>ग्लोबल वॉर्मिंग से आशय हाल ही के दशकों में हुई...</td>\n",
       "    </tr>\n",
       "    <tr>\n",
       "      <th>9</th>\n",
       "      <td>tides</td>\n",
       "      <td>You may want your child to go to a school that...</td>\n",
       "      <td>हो सकता है कि आप चाहते हों कि आप का नऋर्नमेनटे...</td>\n",
       "    </tr>\n",
       "  </tbody>\n",
       "</table>\n",
       "</div>"
      ],
      "text/plain": [
       "      source                                   english_sentence  \\\n",
       "0        ted  politicians do not have permission to do what ...   \n",
       "1        ted         I'd like to tell you about one such child,   \n",
       "2  indic2012  This percentage is even greater than the perce...   \n",
       "3        ted  what we really mean is that they're bad at not...   \n",
       "4  indic2012  .The ending portion of these Vedas is called U...   \n",
       "5      tides  The then Governor of Kashmir resisted transfer...   \n",
       "6  indic2012  In this lies the circumstances of people befor...   \n",
       "7        ted   And who are we to say, even, that they are wrong   \n",
       "8  indic2012  “”Global Warming“” refer to warming caused in ...   \n",
       "9      tides  You may want your child to go to a school that...   \n",
       "\n",
       "                                      hindi_sentence  \n",
       "0  राजनीतिज्ञों के पास जो कार्य करना चाहिए, वह कर...  \n",
       "1  मई आपको ऐसे ही एक बच्चे के बारे में बताना चाहू...  \n",
       "2   यह प्रतिशत भारत में हिन्दुओं प्रतिशत से अधिक है।  \n",
       "3     हम ये नहीं कहना चाहते कि वो ध्यान नहीं दे पाते  \n",
       "4        इन्हीं वेदों का अंतिम भाग उपनिषद कहलाता है।  \n",
       "5  कश्मीर के तत्कालीन गवर्नर ने इस हस्तांतरण का व...  \n",
       "6   इसमें तुमसे पूर्व गुज़रे हुए लोगों के हालात हैं।  \n",
       "7   और हम होते कौन हैं यह कहने भी वाले कि वे गलत हैं  \n",
       "8  ग्लोबल वॉर्मिंग से आशय हाल ही के दशकों में हुई...  \n",
       "9  हो सकता है कि आप चाहते हों कि आप का नऋर्नमेनटे...  "
      ]
     },
     "execution_count": 3,
     "metadata": {},
     "output_type": "execute_result"
    }
   ],
   "source": [
    "data.head(10)"
   ]
  },
  {
   "cell_type": "code",
   "execution_count": 4,
   "id": "5a4558d7",
   "metadata": {
    "execution": {
     "iopub.execute_input": "2022-07-13T15:25:01.076347Z",
     "iopub.status.busy": "2022-07-13T15:25:01.075573Z",
     "iopub.status.idle": "2022-07-13T15:25:01.153653Z",
     "shell.execute_reply": "2022-07-13T15:25:01.152694Z"
    },
    "papermill": {
     "duration": 0.104222,
     "end_time": "2022-07-13T15:25:01.156210",
     "exception": false,
     "start_time": "2022-07-13T15:25:01.051988",
     "status": "completed"
    },
    "tags": []
   },
   "outputs": [
    {
     "name": "stdout",
     "output_type": "stream",
     "text": [
      "<class 'pandas.core.frame.DataFrame'>\n",
      "RangeIndex: 127607 entries, 0 to 127606\n",
      "Data columns (total 3 columns):\n",
      " #   Column            Non-Null Count   Dtype \n",
      "---  ------            --------------   ----- \n",
      " 0   source            127607 non-null  object\n",
      " 1   english_sentence  127605 non-null  object\n",
      " 2   hindi_sentence    127607 non-null  object\n",
      "dtypes: object(3)\n",
      "memory usage: 2.9+ MB\n"
     ]
    }
   ],
   "source": [
    "data.info()"
   ]
  },
  {
   "cell_type": "code",
   "execution_count": 5,
   "id": "4880d6b7",
   "metadata": {
    "execution": {
     "iopub.execute_input": "2022-07-13T15:25:01.317299Z",
     "iopub.status.busy": "2022-07-13T15:25:01.316476Z",
     "iopub.status.idle": "2022-07-13T15:25:01.549993Z",
     "shell.execute_reply": "2022-07-13T15:25:01.548592Z"
    },
    "papermill": {
     "duration": 0.257339,
     "end_time": "2022-07-13T15:25:01.552545",
     "exception": false,
     "start_time": "2022-07-13T15:25:01.295206",
     "status": "completed"
    },
    "tags": []
   },
   "outputs": [],
   "source": [
    "data['english_sentence_mark'] = data['english_sentence'].apply(lambda x : '<sos> '+str(x)+' <eos>')\n",
    "data['hindi_sentence_mark'] = data['hindi_sentence'].apply(lambda x : '<sos> '+str(x)+' <eos>')"
   ]
  },
  {
   "cell_type": "code",
   "execution_count": 6,
   "id": "b65ef6e7",
   "metadata": {
    "execution": {
     "iopub.execute_input": "2022-07-13T15:25:01.633495Z",
     "iopub.status.busy": "2022-07-13T15:25:01.633106Z",
     "iopub.status.idle": "2022-07-13T15:25:01.637173Z",
     "shell.execute_reply": "2022-07-13T15:25:01.636201Z"
    },
    "papermill": {
     "duration": 0.027227,
     "end_time": "2022-07-13T15:25:01.639371",
     "exception": false,
     "start_time": "2022-07-13T15:25:01.612144",
     "status": "completed"
    },
    "tags": []
   },
   "outputs": [],
   "source": [
    "filters = '!\"#$%&()*+,-./:;=?@[\\\\]^_`{|}~\\t\\n'\n",
    "unk_token = '<unk>'"
   ]
  },
  {
   "cell_type": "code",
   "execution_count": 7,
   "id": "224b450c",
   "metadata": {
    "execution": {
     "iopub.execute_input": "2022-07-13T15:25:01.835268Z",
     "iopub.status.busy": "2022-07-13T15:25:01.834443Z",
     "iopub.status.idle": "2022-07-13T15:25:08.473858Z",
     "shell.execute_reply": "2022-07-13T15:25:08.472936Z"
    },
    "papermill": {
     "duration": 6.663701,
     "end_time": "2022-07-13T15:25:08.476254",
     "exception": false,
     "start_time": "2022-07-13T15:25:01.812553",
     "status": "completed"
    },
    "tags": []
   },
   "outputs": [],
   "source": [
    "import tensorflow as tf"
   ]
  },
  {
   "cell_type": "code",
   "execution_count": 8,
   "id": "b965f020",
   "metadata": {
    "execution": {
     "iopub.execute_input": "2022-07-13T15:25:08.520487Z",
     "iopub.status.busy": "2022-07-13T15:25:08.519402Z",
     "iopub.status.idle": "2022-07-13T15:25:10.078370Z",
     "shell.execute_reply": "2022-07-13T15:25:10.077589Z"
    },
    "papermill": {
     "duration": 1.585201,
     "end_time": "2022-07-13T15:25:10.081588",
     "exception": false,
     "start_time": "2022-07-13T15:25:08.496387",
     "status": "completed"
    },
    "tags": []
   },
   "outputs": [],
   "source": [
    "vectorize_layer_en = tf.keras.layers.TextVectorization(\n",
    " output_mode='int',\n",
    " output_sequence_length=256)\n",
    "\n",
    "vectorize_layer_hi = tf.keras.layers.TextVectorization(\n",
    " output_mode='int',\n",
    " output_sequence_length=256)\n"
   ]
  },
  {
   "cell_type": "code",
   "execution_count": 9,
   "id": "343d0a73",
   "metadata": {
    "execution": {
     "iopub.execute_input": "2022-07-13T15:25:10.124503Z",
     "iopub.status.busy": "2022-07-13T15:25:10.123469Z",
     "iopub.status.idle": "2022-07-13T15:25:21.260515Z",
     "shell.execute_reply": "2022-07-13T15:25:21.259543Z"
    },
    "papermill": {
     "duration": 11.16094,
     "end_time": "2022-07-13T15:25:21.262929",
     "exception": false,
     "start_time": "2022-07-13T15:25:10.101989",
     "status": "completed"
    },
    "tags": []
   },
   "outputs": [],
   "source": [
    "vectorize_layer_en.adapt(data['english_sentence_mark'])\n",
    "vectorize_layer_hi.adapt(data['hindi_sentence_mark'])"
   ]
  },
  {
   "cell_type": "code",
   "execution_count": 10,
   "id": "29f360b0",
   "metadata": {
    "execution": {
     "iopub.execute_input": "2022-07-13T15:25:21.304887Z",
     "iopub.status.busy": "2022-07-13T15:25:21.304487Z",
     "iopub.status.idle": "2022-07-13T15:25:21.309848Z",
     "shell.execute_reply": "2022-07-13T15:25:21.308647Z"
    },
    "papermill": {
     "duration": 0.029698,
     "end_time": "2022-07-13T15:25:21.312239",
     "exception": false,
     "start_time": "2022-07-13T15:25:21.282541",
     "status": "completed"
    },
    "tags": []
   },
   "outputs": [],
   "source": [
    "ENCODER_LEN = 256\n",
    "DECODER_LEN = 256\n",
    "BATCH_SIZE = 10\n",
    "BUFFER_SIZE = BATCH_SIZE*4"
   ]
  },
  {
   "cell_type": "code",
   "execution_count": 11,
   "id": "cfa5abf4",
   "metadata": {
    "execution": {
     "iopub.execute_input": "2022-07-13T15:25:21.352805Z",
     "iopub.status.busy": "2022-07-13T15:25:21.352376Z",
     "iopub.status.idle": "2022-07-13T15:25:21.969132Z",
     "shell.execute_reply": "2022-07-13T15:25:21.968077Z"
    },
    "papermill": {
     "duration": 0.640033,
     "end_time": "2022-07-13T15:25:21.971611",
     "exception": false,
     "start_time": "2022-07-13T15:25:21.331578",
     "status": "completed"
    },
    "tags": []
   },
   "outputs": [],
   "source": [
    "ENCODER_VOCAB  = len(vectorize_layer_en.get_vocabulary())\n",
    "DECODER_VOCAB = len(vectorize_layer_hi.get_vocabulary())"
   ]
  },
  {
   "cell_type": "code",
   "execution_count": 12,
   "id": "3ecc0bca",
   "metadata": {
    "execution": {
     "iopub.execute_input": "2022-07-13T15:25:22.012176Z",
     "iopub.status.busy": "2022-07-13T15:25:22.011785Z",
     "iopub.status.idle": "2022-07-13T15:25:22.052450Z",
     "shell.execute_reply": "2022-07-13T15:25:22.050822Z"
    },
    "papermill": {
     "duration": 0.064241,
     "end_time": "2022-07-13T15:25:22.055283",
     "exception": false,
     "start_time": "2022-07-13T15:25:21.991042",
     "status": "completed"
    },
    "tags": []
   },
   "outputs": [],
   "source": [
    "model = tf.keras.models.Sequential([\n",
    "    tf.keras.Input(shape = (1,),dtype = tf.string),\n",
    "    vectorize_layer_en]\n",
    ")\n"
   ]
  },
  {
   "cell_type": "code",
   "execution_count": 13,
   "id": "270037db",
   "metadata": {
    "execution": {
     "iopub.execute_input": "2022-07-13T15:25:22.098531Z",
     "iopub.status.busy": "2022-07-13T15:25:22.098084Z",
     "iopub.status.idle": "2022-07-13T15:25:35.142781Z",
     "shell.execute_reply": "2022-07-13T15:25:35.142040Z"
    },
    "papermill": {
     "duration": 13.068491,
     "end_time": "2022-07-13T15:25:35.145396",
     "exception": false,
     "start_time": "2022-07-13T15:25:22.076905",
     "status": "completed"
    },
    "tags": []
   },
   "outputs": [
    {
     "name": "stdout",
     "output_type": "stream",
     "text": [
      "3988/3988 [==============================] - 6s 2ms/step\n"
     ]
    },
    {
     "data": {
      "text/plain": [
       "<tf.Tensor: shape=(127607, 256), dtype=bool, numpy=\n",
       "array([[ True,  True,  True, ...,  True,  True,  True],\n",
       "       [ True,  True,  True, ...,  True,  True,  True],\n",
       "       [ True,  True,  True, ...,  True,  True,  True],\n",
       "       ...,\n",
       "       [ True,  True,  True, ...,  True,  True,  True],\n",
       "       [ True,  True,  True, ...,  True,  True,  True],\n",
       "       [ True,  True,  True, ...,  True,  True,  True]])>"
      ]
     },
     "execution_count": 13,
     "metadata": {},
     "output_type": "execute_result"
    }
   ],
   "source": [
    "model.predict(data['english_sentence_mark']) == vectorize_layer_en(data['english_sentence_mark'])"
   ]
  },
  {
   "cell_type": "code",
   "execution_count": 14,
   "id": "693c377b",
   "metadata": {
    "execution": {
     "iopub.execute_input": "2022-07-13T15:25:35.240112Z",
     "iopub.status.busy": "2022-07-13T15:25:35.239706Z",
     "iopub.status.idle": "2022-07-13T15:25:37.791577Z",
     "shell.execute_reply": "2022-07-13T15:25:37.789301Z"
    },
    "papermill": {
     "duration": 2.583296,
     "end_time": "2022-07-13T15:25:37.799717",
     "exception": false,
     "start_time": "2022-07-13T15:25:35.216421",
     "status": "completed"
    },
    "tags": []
   },
   "outputs": [],
   "source": [
    "dataset = tf.data.Dataset.from_tensor_slices((vectorize_layer_en(data['english_sentence_mark']), vectorize_layer_hi(data['hindi_sentence']))).shuffle(BUFFER_SIZE).batch(BATCH_SIZE)"
   ]
  },
  {
   "cell_type": "code",
   "execution_count": 15,
   "id": "d626bcf0",
   "metadata": {
    "execution": {
     "iopub.execute_input": "2022-07-13T15:25:37.943618Z",
     "iopub.status.busy": "2022-07-13T15:25:37.942671Z",
     "iopub.status.idle": "2022-07-13T15:25:37.960151Z",
     "shell.execute_reply": "2022-07-13T15:25:37.958873Z"
    },
    "papermill": {
     "duration": 0.047409,
     "end_time": "2022-07-13T15:25:37.963213",
     "exception": false,
     "start_time": "2022-07-13T15:25:37.915804",
     "status": "completed"
    },
    "tags": []
   },
   "outputs": [],
   "source": [
    "# def get_angles(position, i, d_model):\n",
    "#     angle_rates = 1 / np.power(10000, (2 * (i // 2)) / np.float32(d_model))\n",
    "#     return position * angle_rates\n",
    "\n",
    "# def positional_encoding(position, d_model):\n",
    "#     angle_rads = get_angles(\n",
    "#         np.arange(position)[:, np.newaxis],\n",
    "#         np.arange(d_model)[np.newaxis, :],\n",
    "#         d_model\n",
    "#     )\n",
    "\n",
    "#     angle_rads[:, 0::2] = np.sin(angle_rads[:, 0::2])\n",
    "\n",
    "#     angle_rads[:, 1::2] = np.cos(angle_rads[:, 1::2])\n",
    "\n",
    "#     pos_encoding = angle_rads[np.newaxis, ...]\n",
    "\n",
    "#     return tf.cast(pos_encoding, dtype=tf.float32)\n",
    "\n",
    "# def create_padding_mask(seq):\n",
    "#     seq = tf.cast(tf.math.equal(seq, 0), tf.float32)\n",
    "#     return seq[:, tf.newaxis, tf.newaxis, :]\n",
    "\n",
    "# def create_look_ahead_mask(size):\n",
    "#     mask = 1 - tf.linalg.band_part(tf.ones((size, size)), -1, 0)\n",
    "#     return mask\n",
    "\n",
    "# def scaled_dot_product_attention(q, k, v, mask):\n",
    "#     matmul_qk = tf.matmul(q, k, transpose_b=True)\n",
    "\n",
    "#     dk = tf.cast(tf.shape(k)[-1], tf.float32)\n",
    "#     scaled_attention_logits = matmul_qk / tf.math.sqrt(dk)\n",
    "\n",
    "#     if mask is not None:\n",
    "#         scaled_attention_logits += (mask * -1e9)  \n",
    "\n",
    "#     attention_weights = tf.nn.softmax(scaled_attention_logits, axis=-1)\n",
    "\n",
    "#     output = tf.matmul(attention_weights, v)\n",
    "#     return output, attention_weights"
   ]
  },
  {
   "attachments": {},
   "cell_type": "markdown",
   "id": "5c200a2f",
   "metadata": {
    "papermill": {
     "duration": 0.022042,
     "end_time": "2022-07-13T15:25:38.015394",
     "exception": false,
     "start_time": "2022-07-13T15:25:37.993352",
     "status": "completed"
    },
    "tags": []
   },
   "source": [
    "At first we define some helper functions for positional encoding and creating our masks"
   ]
  },
  {
   "cell_type": "code",
   "execution_count": 16,
   "id": "323db1dc",
   "metadata": {
    "execution": {
     "iopub.execute_input": "2022-07-13T15:25:38.060748Z",
     "iopub.status.busy": "2022-07-13T15:25:38.060257Z",
     "iopub.status.idle": "2022-07-13T15:25:38.076435Z",
     "shell.execute_reply": "2022-07-13T15:25:38.075497Z"
    },
    "papermill": {
     "duration": 0.042904,
     "end_time": "2022-07-13T15:25:38.079252",
     "exception": false,
     "start_time": "2022-07-13T15:25:38.036348",
     "status": "completed"
    },
    "tags": []
   },
   "outputs": [],
   "source": [
    "# class MultiHeadAttention(tf.keras.layers.Layer):\n",
    "#     def __init__(self, d_model, num_heads):\n",
    "#         super(MultiHeadAttention, self).__init__()\n",
    "#         self.num_heads = num_heads\n",
    "#         self.d_model = d_model\n",
    "\n",
    "#         assert d_model % self.num_heads == 0\n",
    "\n",
    "#         self.depth = d_model // self.num_heads\n",
    "\n",
    "#         self.wq = tf.keras.layers.Dense(d_model)\n",
    "#         self.wk = tf.keras.layers.Dense(d_model)\n",
    "#         self.wv = tf.keras.layers.Dense(d_model)\n",
    "\n",
    "#         self.dense = tf.keras.layers.Dense(d_model)\n",
    "        \n",
    "#     def split_heads(self, x, batch_size):\n",
    "#         x = tf.reshape(x, (batch_size, -1, self.num_heads, self.depth))\n",
    "#         return tf.transpose(x, perm=[0, 2, 1, 3])\n",
    "    \n",
    "#     def call(self, v, k, q, mask):\n",
    "#         batch_size = tf.shape(q)[0]\n",
    "\n",
    "#         q = self.wq(q)\n",
    "#         k = self.wk(k)\n",
    "#         v = self.wv(v)\n",
    "\n",
    "#         q = self.split_heads(q, batch_size)\n",
    "#         k = self.split_heads(k, batch_size)\n",
    "#         v = self.split_heads(v, batch_size)\n",
    "\n",
    "#         scaled_attention, attention_weights = scaled_dot_product_attention(\n",
    "#             q, k, v, mask)\n",
    "\n",
    "#         scaled_attention = tf.transpose(scaled_attention, perm=[0, 2, 1, 3])\n",
    "        \n",
    "#         concat_attention = tf.reshape(scaled_attention, (batch_size, -1, self.d_model))\n",
    "#         output = self.dense(concat_attention)\n",
    "            \n",
    "#         return output, attention_weights"
   ]
  },
  {
   "attachments": {},
   "cell_type": "markdown",
   "id": "38b9ec51",
   "metadata": {
    "papermill": {
     "duration": 0.019422,
     "end_time": "2022-07-13T15:25:38.121435",
     "exception": false,
     "start_time": "2022-07-13T15:25:38.102013",
     "status": "completed"
    },
    "tags": []
   },
   "source": [
    "The code for the multihead attention layer"
   ]
  },
  {
   "cell_type": "code",
   "execution_count": 17,
   "id": "1028911d",
   "metadata": {
    "execution": {
     "iopub.execute_input": "2022-07-13T15:25:38.169955Z",
     "iopub.status.busy": "2022-07-13T15:25:38.168460Z",
     "iopub.status.idle": "2022-07-13T15:25:38.175147Z",
     "shell.execute_reply": "2022-07-13T15:25:38.174371Z"
    },
    "papermill": {
     "duration": 0.035092,
     "end_time": "2022-07-13T15:25:38.177615",
     "exception": false,
     "start_time": "2022-07-13T15:25:38.142523",
     "status": "completed"
    },
    "tags": []
   },
   "outputs": [],
   "source": [
    "# def point_wise_feed_forward_network(d_model, dff):\n",
    "#     return tf.keras.Sequential([\n",
    "#         tf.keras.layers.Dense(dff, activation='relu'),\n",
    "#         tf.keras.layers.Dense(d_model)\n",
    "#     ])"
   ]
  },
  {
   "cell_type": "code",
   "execution_count": 18,
   "id": "b9feec0e",
   "metadata": {
    "execution": {
     "iopub.execute_input": "2022-07-13T15:25:38.239707Z",
     "iopub.status.busy": "2022-07-13T15:25:38.238338Z",
     "iopub.status.idle": "2022-07-13T15:25:38.261863Z",
     "shell.execute_reply": "2022-07-13T15:25:38.260680Z"
    },
    "papermill": {
     "duration": 0.056593,
     "end_time": "2022-07-13T15:25:38.265702",
     "exception": false,
     "start_time": "2022-07-13T15:25:38.209109",
     "status": "completed"
    },
    "tags": []
   },
   "outputs": [],
   "source": [
    "# class EncoderLayer(tf.keras.layers.Layer):\n",
    "#     def __init__(self, d_model, num_heads, dff, rate=0.1):\n",
    "#         super(EncoderLayer, self).__init__()\n",
    "\n",
    "#         self.mha = MultiHeadAttention(d_model, num_heads)\n",
    "#         self.ffn = point_wise_feed_forward_network(d_model, dff)\n",
    "\n",
    "#         self.layernorm1 = tf.keras.layers.LayerNormalization(epsilon=1e-6)\n",
    "#         self.layernorm2 = tf.keras.layers.LayerNormalization(epsilon=1e-6)\n",
    "\n",
    "#         self.dropout1 = tf.keras.layers.Dropout(rate)\n",
    "#         self.dropout2 = tf.keras.layers.Dropout(rate)\n",
    "    \n",
    "#     def call(self, x, training, mask):\n",
    "#         attn_output,_ = self.mha(x, x, x, mask)\n",
    "#         attn_output = self.dropout1(attn_output, training=training)\n",
    "#         out1 = self.layernorm1(x + attn_output)\n",
    "\n",
    "#         ffn_output = self.ffn(out1)\n",
    "#         ffn_output = self.dropout2(ffn_output, training=training)\n",
    "#         out2 = self.layernorm2(out1 + ffn_output)\n",
    "\n",
    "#         return out2"
   ]
  },
  {
   "attachments": {},
   "cell_type": "markdown",
   "id": "f2c627a8",
   "metadata": {
    "papermill": {
     "duration": 0.026707,
     "end_time": "2022-07-13T15:25:38.317114",
     "exception": false,
     "start_time": "2022-07-13T15:25:38.290407",
     "status": "completed"
    },
    "tags": []
   },
   "source": [
    "The encoder layer"
   ]
  },
  {
   "cell_type": "code",
   "execution_count": 19,
   "id": "4ad8e500",
   "metadata": {
    "execution": {
     "iopub.execute_input": "2022-07-13T15:25:38.379588Z",
     "iopub.status.busy": "2022-07-13T15:25:38.378624Z",
     "iopub.status.idle": "2022-07-13T15:25:38.393523Z",
     "shell.execute_reply": "2022-07-13T15:25:38.392607Z"
    },
    "papermill": {
     "duration": 0.052405,
     "end_time": "2022-07-13T15:25:38.397840",
     "exception": false,
     "start_time": "2022-07-13T15:25:38.345435",
     "status": "completed"
    },
    "tags": []
   },
   "outputs": [],
   "source": [
    "# class DecoderLayer(tf.keras.layers.Layer):\n",
    "#     def __init__(self, d_model, num_heads, dff, rate=0.1):\n",
    "#         super(DecoderLayer, self).__init__()\n",
    "\n",
    "#         self.mha1 = MultiHeadAttention(d_model, num_heads)\n",
    "#         self.mha2 = MultiHeadAttention(d_model, num_heads)\n",
    "\n",
    "#         self.ffn = point_wise_feed_forward_network(d_model, dff)\n",
    "\n",
    "#         self.layernorm1 = tf.keras.layers.LayerNormalization(epsilon=1e-6)\n",
    "#         self.layernorm2 = tf.keras.layers.LayerNormalization(epsilon=1e-6)\n",
    "#         self.layernorm3 = tf.keras.layers.LayerNormalization(epsilon=1e-6)\n",
    "\n",
    "#         self.dropout1 = tf.keras.layers.Dropout(rate)\n",
    "#         self.dropout2 = tf.keras.layers.Dropout(rate)\n",
    "#         self.dropout3 = tf.keras.layers.Dropout(rate)\n",
    "    \n",
    "    \n",
    "#     def call(self, x, enc_output, training, look_ahead_mask, padding_mask):\n",
    "#         attn1, attn_weights_block1 = self.mha1(x, x, x, look_ahead_mask)\n",
    "#         attn1 = self.dropout1(attn1, training=training)\n",
    "#         out1 = self.layernorm1(attn1 + x)\n",
    "\n",
    "#         attn2, attn_weights_block2 = self.mha2(enc_output, enc_output, out1, padding_mask)\n",
    "#         attn2 = self.dropout2(attn2, training=training)\n",
    "#         out2 = self.layernorm2(attn2 + out1)\n",
    "\n",
    "#         ffn_output = self.ffn(out2)\n",
    "#         ffn_output = self.dropout3(ffn_output, training=training)\n",
    "#         out3 = self.layernorm3(ffn_output + out2)\n",
    "\n",
    "#         return out3, attn_weights_block1, attn_weights_block2"
   ]
  },
  {
   "attachments": {},
   "cell_type": "markdown",
   "id": "c27f501c",
   "metadata": {
    "papermill": {
     "duration": 0.036347,
     "end_time": "2022-07-13T15:25:38.467495",
     "exception": false,
     "start_time": "2022-07-13T15:25:38.431148",
     "status": "completed"
    },
    "tags": []
   },
   "source": [
    "The decoder layer"
   ]
  },
  {
   "cell_type": "code",
   "execution_count": 20,
   "id": "f63156d2",
   "metadata": {
    "execution": {
     "iopub.execute_input": "2022-07-13T15:25:38.519400Z",
     "iopub.status.busy": "2022-07-13T15:25:38.518971Z",
     "iopub.status.idle": "2022-07-13T15:25:38.544644Z",
     "shell.execute_reply": "2022-07-13T15:25:38.542925Z"
    },
    "papermill": {
     "duration": 0.052913,
     "end_time": "2022-07-13T15:25:38.547922",
     "exception": false,
     "start_time": "2022-07-13T15:25:38.495009",
     "status": "completed"
    },
    "tags": []
   },
   "outputs": [],
   "source": [
    "# class Encoder(tf.keras.layers.Layer):\n",
    "#     def __init__(self, num_layers, d_model, num_heads, dff, input_vocab_size, maximum_position_encoding, rate=0.1):\n",
    "#         super(Encoder, self).__init__()\n",
    "\n",
    "#         self.d_model = d_model\n",
    "#         self.num_layers = num_layers\n",
    "\n",
    "#         self.embedding = tf.keras.layers.Embedding(input_vocab_size, d_model)\n",
    "#         self.pos_encoding = positional_encoding(maximum_position_encoding, self.d_model)\n",
    "\n",
    "#         self.enc_layers = [EncoderLayer(d_model, num_heads, dff, rate) for _ in range(num_layers)]\n",
    "\n",
    "#         self.dropout = tf.keras.layers.Dropout(rate)\n",
    "        \n",
    "#     def call(self, x, training, mask):\n",
    "#         seq_len = tf.shape(x)[1]\n",
    "\n",
    "#         x = self.embedding(x)\n",
    "#         x *= tf.math.sqrt(tf.cast(self.d_model, tf.float32))\n",
    "#         x += self.pos_encoding[:, :seq_len, :]\n",
    "\n",
    "#         x = self.dropout(x, training=training)\n",
    "    \n",
    "#         for i in range(self.num_layers):\n",
    "#             x = self.enc_layers[i](x, training, mask)\n",
    "    \n",
    "#         return x\n",
    "    \n",
    "# class Decoder(tf.keras.layers.Layer):\n",
    "        \n",
    "#     def __init__(self, num_layers, d_model, num_heads, dff, target_vocab_size, maximum_position_encoding, rate=0.1):\n",
    "#         super(Decoder, self).__init__()\n",
    "\n",
    "#         self.d_model = d_model\n",
    "#         self.num_layers = num_layers\n",
    "\n",
    "#         self.embedding = tf.keras.layers.Embedding(target_vocab_size, d_model)\n",
    "#         self.pos_encoding = positional_encoding(maximum_position_encoding, d_model)\n",
    "\n",
    "#         self.dec_layers = [DecoderLayer(d_model, num_heads, dff, rate) for _ in range(num_layers)]\n",
    "#         self.dropout = tf.keras.layers.Dropout(rate)\n",
    "    \n",
    "#     def call(self, x, enc_output, training, look_ahead_mask, padding_mask):\n",
    "#         seq_len = tf.shape(x)[1]\n",
    "#         attention_weights = {}\n",
    "\n",
    "#         x = self.embedding(x)\n",
    "#         x *= tf.math.sqrt(tf.cast(self.d_model, tf.float32))\n",
    "#         x += self.pos_encoding[:, :seq_len, :]\n",
    "\n",
    "#         x = self.dropout(x, training=training)\n",
    "\n",
    "#         for i in range(self.num_layers):\n",
    "#             x, block1, block2 = self.dec_layers[i](x, enc_output, training, look_ahead_mask, padding_mask)\n",
    "\n",
    "#             attention_weights['decoder_layer{}_block1'.format(i+1)] = block1\n",
    "#             attention_weights['decoder_layer{}_block2'.format(i+1)] = block2\n",
    "    \n",
    "#         return x, attention_weights"
   ]
  },
  {
   "cell_type": "code",
   "execution_count": 21,
   "id": "f2c38bd8",
   "metadata": {
    "execution": {
     "iopub.execute_input": "2022-07-13T15:25:38.615637Z",
     "iopub.status.busy": "2022-07-13T15:25:38.614173Z",
     "iopub.status.idle": "2022-07-13T15:25:38.629524Z",
     "shell.execute_reply": "2022-07-13T15:25:38.627420Z"
    },
    "papermill": {
     "duration": 0.06185,
     "end_time": "2022-07-13T15:25:38.635549",
     "exception": false,
     "start_time": "2022-07-13T15:25:38.573699",
     "status": "completed"
    },
    "tags": []
   },
   "outputs": [],
   "source": [
    "# class Transformer(tf.keras.Model):\n",
    "#     def __init__(self, num_layers, d_model, num_heads, dff, input_vocab_size, target_vocab_size, pe_input, pe_target, rate=0.1):\n",
    "#         super(Transformer, self).__init__()\n",
    "\n",
    "#         self.encoder = Encoder(num_layers, d_model, num_heads, dff, input_vocab_size, pe_input, rate)\n",
    "\n",
    "#         self.decoder = Decoder(num_layers, d_model, num_heads, dff, target_vocab_size, pe_target, rate)\n",
    "\n",
    "#         self.final_layer = tf.keras.layers.Dense(target_vocab_size)\n",
    "    \n",
    "#     def call(self, inp, tar, training, enc_padding_mask, look_ahead_mask, dec_padding_mask):\n",
    "#         enc_output = self.encoder(inp, training, enc_padding_mask)\n",
    "\n",
    "#         dec_output, attention_weights = self.decoder(tar, enc_output, training, look_ahead_mask, dec_padding_mask)\n",
    "\n",
    "#         final_output = self.final_layer(dec_output)\n",
    "\n",
    "#         return final_output, attention_weights\n"
   ]
  },
  {
   "attachments": {},
   "cell_type": "markdown",
   "id": "1c4c0d07",
   "metadata": {
    "papermill": {
     "duration": 0.038642,
     "end_time": "2022-07-13T15:25:38.716462",
     "exception": false,
     "start_time": "2022-07-13T15:25:38.677820",
     "status": "completed"
    },
    "tags": []
   },
   "source": [
    "Final model definition"
   ]
  },
  {
   "cell_type": "code",
   "execution_count": 22,
   "id": "cf9ea12d",
   "metadata": {
    "execution": {
     "iopub.execute_input": "2022-07-13T15:25:38.805214Z",
     "iopub.status.busy": "2022-07-13T15:25:38.804501Z",
     "iopub.status.idle": "2022-07-13T15:25:38.810714Z",
     "shell.execute_reply": "2022-07-13T15:25:38.809744Z"
    },
    "papermill": {
     "duration": 0.055624,
     "end_time": "2022-07-13T15:25:38.813824",
     "exception": false,
     "start_time": "2022-07-13T15:25:38.758200",
     "status": "completed"
    },
    "tags": []
   },
   "outputs": [],
   "source": [
    "# num_layers = 4\n",
    "# d_model = 128\n",
    "# dff = 128\n",
    "# num_heads = 8\n",
    "# dropout_rate = 0.1\n",
    "# EPOCHS = 10"
   ]
  },
  {
   "cell_type": "code",
   "execution_count": 23,
   "id": "177d699d",
   "metadata": {
    "execution": {
     "iopub.execute_input": "2022-07-13T15:25:38.869859Z",
     "iopub.status.busy": "2022-07-13T15:25:38.868926Z",
     "iopub.status.idle": "2022-07-13T15:25:38.878494Z",
     "shell.execute_reply": "2022-07-13T15:25:38.876757Z"
    },
    "papermill": {
     "duration": 0.041964,
     "end_time": "2022-07-13T15:25:38.881812",
     "exception": false,
     "start_time": "2022-07-13T15:25:38.839848",
     "status": "completed"
    },
    "tags": []
   },
   "outputs": [],
   "source": [
    "# class CustomSchedule(tf.keras.optimizers.schedules.LearningRateSchedule):\n",
    "#     def __init__(self, d_model, warmup_steps=4000):\n",
    "#         super(CustomSchedule, self).__init__()\n",
    "\n",
    "#         self.d_model = d_model\n",
    "#         self.d_model = tf.cast(self.d_model, tf.float32)\n",
    "\n",
    "#         self.warmup_steps = warmup_steps\n",
    "    \n",
    "#     def __call__(self, step):\n",
    "#         arg1 = tf.math.rsqrt(step)\n",
    "#         arg2 = step * (self.warmup_steps ** -1.5)\n",
    "\n",
    "#         return tf.math.rsqrt(self.d_model) * tf.math.minimum(arg1, arg2)"
   ]
  },
  {
   "cell_type": "code",
   "execution_count": 24,
   "id": "5cf62bc6",
   "metadata": {
    "execution": {
     "iopub.execute_input": "2022-07-13T15:25:38.933865Z",
     "iopub.status.busy": "2022-07-13T15:25:38.933234Z",
     "iopub.status.idle": "2022-07-13T15:25:38.940519Z",
     "shell.execute_reply": "2022-07-13T15:25:38.939737Z"
    },
    "papermill": {
     "duration": 0.038348,
     "end_time": "2022-07-13T15:25:38.944527",
     "exception": false,
     "start_time": "2022-07-13T15:25:38.906179",
     "status": "completed"
    },
    "tags": []
   },
   "outputs": [],
   "source": [
    "# learning_rate = CustomSchedule(d_model)\n",
    "\n",
    "# optimizer = tf.keras.optimizers.Adam(learning_rate, beta_1=0.9, beta_2=0.98, epsilon=1e-9)"
   ]
  },
  {
   "cell_type": "code",
   "execution_count": 25,
   "id": "cabbb687",
   "metadata": {
    "execution": {
     "iopub.execute_input": "2022-07-13T15:25:38.994522Z",
     "iopub.status.busy": "2022-07-13T15:25:38.993825Z",
     "iopub.status.idle": "2022-07-13T15:25:39.027729Z",
     "shell.execute_reply": "2022-07-13T15:25:39.026420Z"
    },
    "papermill": {
     "duration": 0.061389,
     "end_time": "2022-07-13T15:25:39.030620",
     "exception": false,
     "start_time": "2022-07-13T15:25:38.969231",
     "status": "completed"
    },
    "tags": []
   },
   "outputs": [],
   "source": [
    "# loss_object = tf.keras.losses.SparseCategoricalCrossentropy(from_logits=True, reduction='none')\n",
    "# @tf.function\n",
    "# def loss_function(real, pred):\n",
    "#     mask = tf.math.logical_not(tf.math.equal(real, 0))\n",
    "#     loss_ = loss_object(real, pred)\n",
    "\n",
    "#     mask = tf.cast(mask, dtype=loss_.dtype)\n",
    "#     loss_ *= mask\n",
    "\n",
    "#     return tf.reduce_sum(loss_)/tf.reduce_sum(mask)\n",
    "\n",
    "\n",
    "# @tf.function\n",
    "# def accuracy_function(real, pred):\n",
    "#     accuracies = tf.equal(real, tf.argmax(pred, axis=2))\n",
    "\n",
    "#     mask = tf.math.logical_not(tf.math.equal(real, 0))\n",
    "#     accuracies = tf.math.logical_and(mask, accuracies)\n",
    "\n",
    "#     accuracies = tf.cast(accuracies, dtype=tf.float32)\n",
    "#     mask = tf.cast(mask, dtype=tf.float32)\n",
    "#     return tf.reduce_sum(accuracies)/tf.reduce_sum(mask)\n",
    "# train_loss = tf.keras.metrics.Mean(name='train_loss')\n",
    "# train_accuracy = tf.keras.metrics.Mean(name='train_accuracy')"
   ]
  },
  {
   "cell_type": "code",
   "execution_count": 26,
   "id": "454dab4e",
   "metadata": {
    "execution": {
     "iopub.execute_input": "2022-07-13T15:25:39.085289Z",
     "iopub.status.busy": "2022-07-13T15:25:39.084611Z",
     "iopub.status.idle": "2022-07-13T15:25:39.360008Z",
     "shell.execute_reply": "2022-07-13T15:25:39.357309Z"
    },
    "papermill": {
     "duration": 0.316362,
     "end_time": "2022-07-13T15:25:39.373330",
     "exception": false,
     "start_time": "2022-07-13T15:25:39.056968",
     "status": "completed"
    },
    "tags": []
   },
   "outputs": [],
   "source": [
    "# transformer = Transformer(\n",
    "#     num_layers=num_layers,\n",
    "#     d_model=d_model,\n",
    "#     num_heads=num_heads,\n",
    "#     dff=dff,\n",
    "#     input_vocab_size=ENCODER_VOCAB,\n",
    "#     target_vocab_size=DECODER_VOCAB,\n",
    "#     pe_input=1000,\n",
    "#     pe_target=1000,\n",
    "#     rate=dropout_rate)"
   ]
  },
  {
   "cell_type": "code",
   "execution_count": 27,
   "id": "90fbd587",
   "metadata": {
    "execution": {
     "iopub.execute_input": "2022-07-13T15:25:39.443793Z",
     "iopub.status.busy": "2022-07-13T15:25:39.442457Z",
     "iopub.status.idle": "2022-07-13T15:25:39.454213Z",
     "shell.execute_reply": "2022-07-13T15:25:39.453003Z"
    },
    "papermill": {
     "duration": 0.050046,
     "end_time": "2022-07-13T15:25:39.458452",
     "exception": false,
     "start_time": "2022-07-13T15:25:39.408406",
     "status": "completed"
    },
    "tags": []
   },
   "outputs": [],
   "source": [
    "# def create_masks(inp, tar):\n",
    "#     enc_padding_mask = create_padding_mask(inp)\n",
    "#     dec_padding_mask = create_padding_mask(inp)\n",
    "\n",
    "#     look_ahead_mask = create_look_ahead_mask(tf.shape(tar)[1])\n",
    "#     dec_target_padding_mask = create_padding_mask(tar)\n",
    "#     combined_mask = tf.maximum(dec_target_padding_mask, look_ahead_mask)\n",
    "  \n",
    "#     return enc_padding_mask, combined_mask, dec_padding_mask"
   ]
  },
  {
   "cell_type": "code",
   "execution_count": 28,
   "id": "9127c3f1",
   "metadata": {
    "execution": {
     "iopub.execute_input": "2022-07-13T15:25:39.526424Z",
     "iopub.status.busy": "2022-07-13T15:25:39.525427Z",
     "iopub.status.idle": "2022-07-13T15:25:39.538710Z",
     "shell.execute_reply": "2022-07-13T15:25:39.537419Z"
    },
    "papermill": {
     "duration": 0.053285,
     "end_time": "2022-07-13T15:25:39.541963",
     "exception": false,
     "start_time": "2022-07-13T15:25:39.488678",
     "status": "completed"
    },
    "tags": []
   },
   "outputs": [],
   "source": [
    "# checkpoint_path = \"checkpoints\"\n",
    "\n",
    "# ckpt = tf.train.Checkpoint(transformer=transformer, optimizer=optimizer)\n",
    "\n",
    "# ckpt_manager = tf.train.CheckpointManager(ckpt, checkpoint_path, max_to_keep=5)\n",
    "\n",
    "# if ckpt_manager.latest_checkpoint:\n",
    "#     ckpt.restore(ckpt_manager.latest_checkpoint)\n",
    "#     print ('Latest checkpoint restored!!')"
   ]
  },
  {
   "cell_type": "code",
   "execution_count": 29,
   "id": "77dcdb42",
   "metadata": {
    "execution": {
     "iopub.execute_input": "2022-07-13T15:25:39.609584Z",
     "iopub.status.busy": "2022-07-13T15:25:39.607658Z",
     "iopub.status.idle": "2022-07-13T15:25:39.626310Z",
     "shell.execute_reply": "2022-07-13T15:25:39.625045Z"
    },
    "papermill": {
     "duration": 0.056005,
     "end_time": "2022-07-13T15:25:39.629730",
     "exception": false,
     "start_time": "2022-07-13T15:25:39.573725",
     "status": "completed"
    },
    "tags": []
   },
   "outputs": [],
   "source": [
    "# @tf.function\n",
    "# def train_step(inp, tar):\n",
    "#     tar_inp = tar[:, :-1]\n",
    "#     tar_real = tar[:, 1:]\n",
    "\n",
    "#     enc_padding_mask, combined_mask, dec_padding_mask = create_masks(inp, tar_inp)\n",
    "\n",
    "#     with tf.GradientTape() as tape:\n",
    "#         predictions, _ = transformer(\n",
    "#             inp, tar_inp, \n",
    "#             True, \n",
    "#             enc_padding_mask, \n",
    "#             combined_mask, \n",
    "#             dec_padding_mask\n",
    "#         )\n",
    "#         loss = loss_function(tar_real, predictions)\n",
    "\n",
    "#     gradients = tape.gradient(loss, transformer.trainable_variables)    \n",
    "#     optimizer.apply_gradients(zip(gradients, transformer.trainable_variables))\n",
    "\n",
    "#     train_loss(loss)\n",
    "#     train_accuracy(accuracy_function(tar_real, predictions))"
   ]
  },
  {
   "cell_type": "code",
   "execution_count": 30,
   "id": "6cb45c69",
   "metadata": {
    "execution": {
     "iopub.execute_input": "2022-07-13T15:25:39.697363Z",
     "iopub.status.busy": "2022-07-13T15:25:39.696676Z",
     "iopub.status.idle": "2022-07-13T15:25:39.701221Z",
     "shell.execute_reply": "2022-07-13T15:25:39.700451Z"
    },
    "papermill": {
     "duration": 0.042568,
     "end_time": "2022-07-13T15:25:39.705347",
     "exception": false,
     "start_time": "2022-07-13T15:25:39.662779",
     "status": "completed"
    },
    "tags": []
   },
   "outputs": [],
   "source": [
    "# import time\n",
    "# for epoch in range(EPOCHS):\n",
    "#     start = time.time()\n",
    "\n",
    "#     train_loss.reset_states()\n",
    "  \n",
    "#     for (batch, (inp, tar)) in enumerate(dataset):\n",
    "#         train_step(inp, tar)\n",
    "    \n",
    "#         if batch % 200 == 0:\n",
    "#             print(f'Epoch {epoch + 1} Batch {batch} Loss {train_loss.result():.4f} Accuracy {train_accuracy.result():.4f}')\n",
    "      \n",
    "#     if (epoch + 1) % 5 == 0:\n",
    "#         ckpt_save_path = ckpt_manager.save()\n",
    "#         print ('Saving checkpoint for epoch {} at {}'.format(epoch+1, ckpt_save_path))\n",
    "   \n",
    "#     print(f'Epoch {epoch + 1} Loss {train_loss.result():.4f} Accuracy {train_accuracy.result():.4f}')\n",
    "#     print ('Time taken for 1 epoch: {} secs\\n'.format(time.time() - start))"
   ]
  },
  {
   "attachments": {},
   "cell_type": "markdown",
   "id": "9b72cd8e",
   "metadata": {
    "papermill": {
     "duration": 0.030806,
     "end_time": "2022-07-13T15:25:39.765569",
     "exception": false,
     "start_time": "2022-07-13T15:25:39.734763",
     "status": "completed"
    },
    "tags": []
   },
   "source": [
    "The training takes a huge amount of time given the sheer number of items in the corpus. So we skip the training part here. We can undomment the lines and run the code but it will take a lot of time for sure since it is training from scratch."
   ]
  },
  {
   "cell_type": "code",
   "execution_count": 31,
   "id": "eec30850",
   "metadata": {
    "execution": {
     "iopub.execute_input": "2022-07-13T15:25:39.813970Z",
     "iopub.status.busy": "2022-07-13T15:25:39.813353Z",
     "iopub.status.idle": "2022-07-13T15:25:39.827155Z",
     "shell.execute_reply": "2022-07-13T15:25:39.825642Z"
    },
    "papermill": {
     "duration": 0.040809,
     "end_time": "2022-07-13T15:25:39.830900",
     "exception": false,
     "start_time": "2022-07-13T15:25:39.790091",
     "status": "completed"
    },
    "tags": []
   },
   "outputs": [],
   "source": [
    "# def evaluate(text):\n",
    "#     text = eng_tokenizer.texts_to_sequences([text])\n",
    "#     text = tf.keras.preprocessing.sequence.pad_sequences(text, maxlen=ENCODER_LEN, \n",
    "#                                                                    padding='post', truncating='post')\n",
    "\n",
    "#     encoder_input = tf.expand_dims(text[0], 0)\n",
    "\n",
    "#     decoder_input = [hind_tokenizer.word_index['<sos>']]\n",
    "#     output = tf.expand_dims(decoder_input, 0)\n",
    "    \n",
    "#     for i in range(DECODER_LEN):\n",
    "#         enc_padding_mask, combined_mask, dec_padding_mask = create_masks(encoder_input, output)\n",
    "\n",
    "#         predictions, attention_weights = transformer(\n",
    "#             encoder_input, \n",
    "#             output,\n",
    "#             False,\n",
    "#             enc_padding_mask,\n",
    "#             combined_mask,\n",
    "#             dec_padding_mask\n",
    "#         )\n",
    "\n",
    "#         predictions = predictions[: ,-1:, :]\n",
    "#         predicted_id = tf.cast(tf.argmax(predictions, axis=-1), tf.int32)\n",
    "\n",
    "#         if predicted_id == hind_tokenizer.word_index['<eos>']:\n",
    "#             return tf.squeeze(output, axis=0), attention_weights\n",
    "\n",
    "#         output = tf.concat([output, predicted_id], axis=-1)\n",
    "\n",
    "#     return tf.squeeze(output, axis=0), attention_weights"
   ]
  },
  {
   "cell_type": "code",
   "execution_count": 32,
   "id": "54758f35",
   "metadata": {
    "execution": {
     "iopub.execute_input": "2022-07-13T15:25:39.888206Z",
     "iopub.status.busy": "2022-07-13T15:25:39.883018Z",
     "iopub.status.idle": "2022-07-13T15:25:39.894548Z",
     "shell.execute_reply": "2022-07-13T15:25:39.893225Z"
    },
    "papermill": {
     "duration": 0.040002,
     "end_time": "2022-07-13T15:25:39.897720",
     "exception": false,
     "start_time": "2022-07-13T15:25:39.857718",
     "status": "completed"
    },
    "tags": []
   },
   "outputs": [],
   "source": [
    "# def translate(eng_text):\n",
    "#     hind_text = evaluate(text=eng_text)[0].numpy()\n",
    "#     hind_text = np.expand_dims(hind_text[1:], 0)  \n",
    "#     return hind_tokenizer.sequences_to_texts(hind_text)[0]"
   ]
  },
  {
   "attachments": {},
   "cell_type": "markdown",
   "id": "7a8d8bc4",
   "metadata": {
    "papermill": {
     "duration": 0.020493,
     "end_time": "2022-07-13T15:25:39.942086",
     "exception": false,
     "start_time": "2022-07-13T15:25:39.921593",
     "status": "completed"
    },
    "tags": []
   },
   "source": [
    "The final helper methods for translating the sentences"
   ]
  },
  {
   "cell_type": "code",
   "execution_count": null,
   "id": "7514d69d",
   "metadata": {},
   "outputs": [],
   "source": []
  },
  {
   "cell_type": "code",
   "execution_count": 15,
   "id": "2f1af3dd",
   "metadata": {
    "execution": {
     "iopub.execute_input": "2022-07-13T15:25:40.028742Z",
     "iopub.status.busy": "2022-07-13T15:25:40.028206Z",
     "iopub.status.idle": "2022-07-13T15:26:05.912920Z",
     "shell.execute_reply": "2022-07-13T15:26:05.912063Z"
    },
    "papermill": {
     "duration": 25.909623,
     "end_time": "2022-07-13T15:26:05.915406",
     "exception": false,
     "start_time": "2022-07-13T15:25:40.005783",
     "status": "completed"
    },
    "tags": []
   },
   "outputs": [
    {
     "data": {
      "application/vnd.jupyter.widget-view+json": {
       "model_id": "025df66997ed402293964e6c2c2e3313",
       "version_major": 2,
       "version_minor": 0
      },
      "text/plain": [
       "Downloading (…)okenizer_config.json:   0%|          | 0.00/44.0 [00:00<?, ?B/s]"
      ]
     },
     "metadata": {},
     "output_type": "display_data"
    },
    {
     "name": "stderr",
     "output_type": "stream",
     "text": [
      "c:\\Users\\sragh\\anaconda3\\lib\\site-packages\\huggingface_hub\\file_download.py:129: UserWarning: `huggingface_hub` cache-system uses symlinks by default to efficiently store duplicated files but your machine does not support them in C:\\Users\\sragh\\.cache\\huggingface\\hub. Caching files will still work but in a degraded version that might require more space on your disk. This warning can be disabled by setting the `HF_HUB_DISABLE_SYMLINKS_WARNING` environment variable. For more details, see https://huggingface.co/docs/huggingface_hub/how-to-cache#limitations.\n",
      "To support symlinks on Windows, you either need to activate Developer Mode or to run Python as an administrator. In order to see activate developer mode, see this article: https://docs.microsoft.com/en-us/windows/apps/get-started/enable-your-device-for-development\n",
      "  warnings.warn(message)\n"
     ]
    },
    {
     "data": {
      "application/vnd.jupyter.widget-view+json": {
       "model_id": "97bf8b6abbf84a9cac66a92320f38884",
       "version_major": 2,
       "version_minor": 0
      },
      "text/plain": [
       "Downloading (…)lve/main/config.json:   0%|          | 0.00/1.39k [00:00<?, ?B/s]"
      ]
     },
     "metadata": {},
     "output_type": "display_data"
    },
    {
     "data": {
      "application/vnd.jupyter.widget-view+json": {
       "model_id": "2fe3539fe491428bb7d41991d277acdc",
       "version_major": 2,
       "version_minor": 0
      },
      "text/plain": [
       "Downloading (…)olve/main/source.spm:   0%|          | 0.00/812k [00:00<?, ?B/s]"
      ]
     },
     "metadata": {},
     "output_type": "display_data"
    },
    {
     "data": {
      "application/vnd.jupyter.widget-view+json": {
       "model_id": "c422891463bb4cea8101830e2548ea2c",
       "version_major": 2,
       "version_minor": 0
      },
      "text/plain": [
       "Downloading (…)olve/main/target.spm:   0%|          | 0.00/1.07M [00:00<?, ?B/s]"
      ]
     },
     "metadata": {},
     "output_type": "display_data"
    },
    {
     "data": {
      "application/vnd.jupyter.widget-view+json": {
       "model_id": "1a0a454853f442fbadf03a91efd866a8",
       "version_major": 2,
       "version_minor": 0
      },
      "text/plain": [
       "Downloading (…)olve/main/vocab.json:   0%|          | 0.00/2.10M [00:00<?, ?B/s]"
      ]
     },
     "metadata": {},
     "output_type": "display_data"
    },
    {
     "name": "stderr",
     "output_type": "stream",
     "text": [
      "c:\\Users\\sragh\\anaconda3\\lib\\site-packages\\transformers\\models\\marian\\tokenization_marian.py:194: UserWarning: Recommended: pip install sacremoses.\n",
      "  warnings.warn(\"Recommended: pip install sacremoses.\")\n"
     ]
    },
    {
     "data": {
      "application/vnd.jupyter.widget-view+json": {
       "model_id": "62f3b8a0f20f4e65bbbbb2c33e4c42ec",
       "version_major": 2,
       "version_minor": 0
      },
      "text/plain": [
       "Downloading (…)\"pytorch_model.bin\";:   0%|          | 0.00/306M [00:00<?, ?B/s]"
      ]
     },
     "metadata": {},
     "output_type": "display_data"
    },
    {
     "name": "stderr",
     "output_type": "stream",
     "text": [
      "All PyTorch model weights were used when initializing TFMarianMTModel.\n",
      "\n",
      "All the weights of TFMarianMTModel were initialized from the PyTorch model.\n",
      "If your task is similar to the task the model of the checkpoint was trained on, you can already use TFMarianMTModel for predictions without further training.\n"
     ]
    }
   ],
   "source": [
    "from transformers import AutoTokenizer,TFAutoModelForSeq2SeqLM\n",
    "\n",
    "tokenizer = AutoTokenizer.from_pretrained(\"Helsinki-NLP/opus-mt-en-hi\")\n",
    "\n",
    "model = TFAutoModelForSeq2SeqLM.from_pretrained(\"Helsinki-NLP/opus-mt-en-hi\",from_pt=True)"
   ]
  },
  {
   "cell_type": "code",
   "execution_count": 16,
   "id": "7775afa1",
   "metadata": {
    "execution": {
     "iopub.execute_input": "2022-07-13T15:26:06.006268Z",
     "iopub.status.busy": "2022-07-13T15:26:06.005834Z",
     "iopub.status.idle": "2022-07-13T15:26:10.545239Z",
     "shell.execute_reply": "2022-07-13T15:26:10.543550Z"
    },
    "papermill": {
     "duration": 4.566844,
     "end_time": "2022-07-13T15:26:10.547702",
     "exception": false,
     "start_time": "2022-07-13T15:26:05.980858",
     "status": "completed"
    },
    "tags": []
   },
   "outputs": [
    {
     "name": "stderr",
     "output_type": "stream",
     "text": [
      "c:\\Users\\sragh\\anaconda3\\lib\\site-packages\\transformers\\generation\\tf_utils.py:854: UserWarning: Using `max_length`'s default (512) to control the generation length. This behaviour is deprecated and will be removed from the config in v5 of Transformers -- we recommend using `max_new_tokens` to control the maximum length of the generation.\n",
      "  warnings.warn(\n"
     ]
    },
    {
     "name": "stdout",
     "output_type": "stream",
     "text": [
      "WARNING:tensorflow:From c:\\Users\\sragh\\anaconda3\\lib\\site-packages\\tensorflow\\python\\autograph\\pyct\\static_analysis\\liveness.py:83: Analyzer.lamba_check (from tensorflow.python.autograph.pyct.static_analysis.liveness) is deprecated and will be removed after 2023-09-23.\n",
      "Instructions for updating:\n",
      "Lambda fuctions will be no more assumed to be used in the statement where they are used, or at least in the same block. https://github.com/tensorflow/tensorflow/issues/56089\n"
     ]
    },
    {
     "data": {
      "text/plain": [
       "['<pad> नेताओं को क्या करने की अनुमति नहीं है ।</s> <pad> <pad>']"
      ]
     },
     "execution_count": 16,
     "metadata": {},
     "output_type": "execute_result"
    }
   ],
   "source": [
    "input_ids = tokenizer(data['english_sentence'][0],return_tensors=\"tf\").input_ids\n",
    "tokenizer.batch_decode(model.generate(input_ids=input_ids))"
   ]
  },
  {
   "cell_type": "code",
   "execution_count": 17,
   "id": "c629c7c1",
   "metadata": {
    "execution": {
     "iopub.execute_input": "2022-07-13T15:26:10.639424Z",
     "iopub.status.busy": "2022-07-13T15:26:10.639012Z",
     "iopub.status.idle": "2022-07-13T15:26:10.647375Z",
     "shell.execute_reply": "2022-07-13T15:26:10.645921Z"
    },
    "papermill": {
     "duration": 0.034328,
     "end_time": "2022-07-13T15:26:10.650134",
     "exception": false,
     "start_time": "2022-07-13T15:26:10.615806",
     "status": "completed"
    },
    "tags": []
   },
   "outputs": [
    {
     "data": {
      "text/plain": [
       "'राजनीतिज्ञों के पास जो कार्य करना चाहिए, वह करने कि अनुमति नहीं है .'"
      ]
     },
     "execution_count": 17,
     "metadata": {},
     "output_type": "execute_result"
    }
   ],
   "source": [
    "data['hindi_sentence'][0]"
   ]
  },
  {
   "cell_type": "code",
   "execution_count": 18,
   "id": "a967faac",
   "metadata": {
    "execution": {
     "iopub.execute_input": "2022-07-13T15:26:10.739252Z",
     "iopub.status.busy": "2022-07-13T15:26:10.738289Z",
     "iopub.status.idle": "2022-07-13T15:26:11.546053Z",
     "shell.execute_reply": "2022-07-13T15:26:11.544956Z"
    },
    "papermill": {
     "duration": 0.833799,
     "end_time": "2022-07-13T15:26:11.548865",
     "exception": false,
     "start_time": "2022-07-13T15:26:10.715066",
     "status": "completed"
    },
    "tags": []
   },
   "outputs": [],
   "source": [
    "from datasets import load_dataset\n",
    "import datasets\n",
    "\n",
    "data_preprocess = datasets.Dataset.from_pandas(data.drop(['source','english_sentence_mark','hindi_sentence_mark'],axis = 1))"
   ]
  },
  {
   "cell_type": "code",
   "execution_count": 19,
   "id": "2f30bbe3",
   "metadata": {
    "execution": {
     "iopub.execute_input": "2022-07-13T15:26:11.640932Z",
     "iopub.status.busy": "2022-07-13T15:26:11.640137Z",
     "iopub.status.idle": "2022-07-13T15:26:11.647752Z",
     "shell.execute_reply": "2022-07-13T15:26:11.646698Z"
    },
    "papermill": {
     "duration": 0.034573,
     "end_time": "2022-07-13T15:26:11.650500",
     "exception": false,
     "start_time": "2022-07-13T15:26:11.615927",
     "status": "completed"
    },
    "tags": []
   },
   "outputs": [],
   "source": [
    "def preprocess_function(data):\n",
    "    inputs = list(map(str,data['english_sentence']))\n",
    "    targets = list(map(str,data['hindi_sentence']))\n",
    "    model_inputs = tokenizer(inputs, max_length=128, truncation=True)\n",
    "\n",
    "    # Set up the tokenizer for targets\n",
    "    with tokenizer.as_target_tokenizer():\n",
    "        labels = tokenizer(targets, max_length=128, truncation=True)\n",
    "\n",
    "    model_inputs[\"labels\"] = labels[\"input_ids\"]\n",
    "    return model_inputs"
   ]
  },
  {
   "cell_type": "code",
   "execution_count": 20,
   "id": "465b24a3",
   "metadata": {
    "execution": {
     "iopub.execute_input": "2022-07-13T15:26:11.695209Z",
     "iopub.status.busy": "2022-07-13T15:26:11.694765Z",
     "iopub.status.idle": "2022-07-13T15:27:10.600802Z",
     "shell.execute_reply": "2022-07-13T15:27:10.599642Z"
    },
    "papermill": {
     "duration": 58.931224,
     "end_time": "2022-07-13T15:27:10.603229",
     "exception": false,
     "start_time": "2022-07-13T15:26:11.672005",
     "status": "completed"
    },
    "tags": []
   },
   "outputs": [
    {
     "data": {
      "application/vnd.jupyter.widget-view+json": {
       "model_id": "fbb261505e2a45c4a6cd2e5543816183",
       "version_major": 2,
       "version_minor": 0
      },
      "text/plain": [
       "Map:   0%|          | 0/127607 [00:00<?, ? examples/s]"
      ]
     },
     "metadata": {},
     "output_type": "display_data"
    },
    {
     "name": "stderr",
     "output_type": "stream",
     "text": [
      "c:\\Users\\sragh\\anaconda3\\lib\\site-packages\\transformers\\tokenization_utils_base.py:3596: UserWarning: `as_target_tokenizer` is deprecated and will be removed in v5 of Transformers. You can tokenize your labels by using the argument `text_target` of the regular `__call__` method (either in the same call as your input texts if you use the same keyword arguments, or in a separate call.\n",
      "  warnings.warn(\n"
     ]
    }
   ],
   "source": [
    "tokenized_datasets = data_preprocess.map(\n",
    "    preprocess_function,\n",
    "    batched=True,\n",
    "    remove_columns = ['english_sentence','hindi_sentence']\n",
    ")"
   ]
  },
  {
   "cell_type": "code",
   "execution_count": 21,
   "id": "fae8a909",
   "metadata": {
    "execution": {
     "iopub.execute_input": "2022-07-13T15:27:10.699170Z",
     "iopub.status.busy": "2022-07-13T15:27:10.698387Z",
     "iopub.status.idle": "2022-07-13T15:27:11.558941Z",
     "shell.execute_reply": "2022-07-13T15:27:11.558095Z"
    },
    "papermill": {
     "duration": 0.888747,
     "end_time": "2022-07-13T15:27:11.561415",
     "exception": false,
     "start_time": "2022-07-13T15:27:10.672668",
     "status": "completed"
    },
    "tags": []
   },
   "outputs": [],
   "source": [
    "from transformers import DataCollatorForSeq2Seq\n",
    "\n",
    "data_collator = DataCollatorForSeq2Seq(tokenizer, model=model, return_tensors=\"tf\")"
   ]
  },
  {
   "cell_type": "code",
   "execution_count": 22,
   "id": "2d91fb8a",
   "metadata": {
    "execution": {
     "iopub.execute_input": "2022-07-13T15:27:11.652728Z",
     "iopub.status.busy": "2022-07-13T15:27:11.652273Z",
     "iopub.status.idle": "2022-07-13T15:27:13.340448Z",
     "shell.execute_reply": "2022-07-13T15:27:13.339591Z"
    },
    "papermill": {
     "duration": 1.714952,
     "end_time": "2022-07-13T15:27:13.343093",
     "exception": false,
     "start_time": "2022-07-13T15:27:11.628141",
     "status": "completed"
    },
    "tags": []
   },
   "outputs": [],
   "source": [
    "out_data = tokenized_datasets.to_tf_dataset(\n",
    "    columns=[\"input_ids\", \"attention_mask\", \"labels\"],\n",
    "    collate_fn=data_collator,\n",
    "    shuffle=True,\n",
    "    batch_size=32,\n",
    ")"
   ]
  },
  {
   "cell_type": "code",
   "execution_count": 23,
   "id": "47b6ced3",
   "metadata": {
    "execution": {
     "iopub.execute_input": "2022-07-13T15:27:13.438641Z",
     "iopub.status.busy": "2022-07-13T15:27:13.437615Z",
     "iopub.status.idle": "2022-07-13T15:27:29.089305Z",
     "shell.execute_reply": "2022-07-13T15:27:29.087872Z"
    },
    "papermill": {
     "duration": 15.679553,
     "end_time": "2022-07-13T15:27:29.092841",
     "exception": false,
     "start_time": "2022-07-13T15:27:13.413288",
     "status": "completed"
    },
    "tags": []
   },
   "outputs": [
    {
     "name": "stdout",
     "output_type": "stream",
     "text": [
      "Requirement already satisfied: sacrebleu in c:\\users\\sragh\\anaconda3\\lib\\site-packages (2.3.1)\n",
      "Requirement already satisfied: colorama in c:\\users\\sragh\\anaconda3\\lib\\site-packages (from sacrebleu) (0.4.6)\n",
      "Requirement already satisfied: tabulate>=0.8.9 in c:\\users\\sragh\\anaconda3\\lib\\site-packages (from sacrebleu) (0.8.10)\n",
      "Requirement already satisfied: regex in c:\\users\\sragh\\anaconda3\\lib\\site-packages (from sacrebleu) (2022.7.9)\n",
      "Requirement already satisfied: portalocker in c:\\users\\sragh\\anaconda3\\lib\\site-packages (from sacrebleu) (2.7.0)\n",
      "Requirement already satisfied: numpy>=1.17 in c:\\users\\sragh\\anaconda3\\lib\\site-packages (from sacrebleu) (1.21.5)\n",
      "Requirement already satisfied: lxml in c:\\users\\sragh\\anaconda3\\lib\\site-packages (from sacrebleu) (4.9.1)\n",
      "Requirement already satisfied: pywin32>=226 in c:\\users\\sragh\\anaconda3\\lib\\site-packages (from portalocker->sacrebleu) (302)\n"
     ]
    },
    {
     "name": "stderr",
     "output_type": "stream",
     "text": [
      "WARNING: Ignoring invalid distribution -pencv-python-headless (c:\\users\\sragh\\anaconda3\\lib\\site-packages)\n",
      "WARNING: Ignoring invalid distribution -pencv-python-headless (c:\\users\\sragh\\anaconda3\\lib\\site-packages)\n",
      "WARNING: Ignoring invalid distribution -pencv-python-headless (c:\\users\\sragh\\anaconda3\\lib\\site-packages)\n",
      "WARNING: Ignoring invalid distribution -pencv-python-headless (c:\\users\\sragh\\anaconda3\\lib\\site-packages)\n",
      "WARNING: Ignoring invalid distribution -pencv-python-headless (c:\\users\\sragh\\anaconda3\\lib\\site-packages)\n",
      "WARNING: Ignoring invalid distribution -pencv-python-headless (c:\\users\\sragh\\anaconda3\\lib\\site-packages)\n"
     ]
    }
   ],
   "source": [
    "!pip install sacrebleu"
   ]
  },
  {
   "cell_type": "code",
   "execution_count": 27,
   "id": "66c9ce63",
   "metadata": {
    "execution": {
     "iopub.execute_input": "2022-07-13T15:27:29.190390Z",
     "iopub.status.busy": "2022-07-13T15:27:29.189901Z",
     "iopub.status.idle": "2022-07-13T15:27:30.056045Z",
     "shell.execute_reply": "2022-07-13T15:27:30.054997Z"
    },
    "papermill": {
     "duration": 0.89556,
     "end_time": "2022-07-13T15:27:30.058721",
     "exception": false,
     "start_time": "2022-07-13T15:27:29.163161",
     "status": "completed"
    },
    "tags": []
   },
   "outputs": [],
   "source": [
    "from datasets import load_metric\n",
    "\n",
    "metric = load_metric(\"sacrebleu\")"
   ]
  },
  {
   "cell_type": "code",
   "execution_count": 28,
   "id": "70c58ffd",
   "metadata": {
    "execution": {
     "iopub.execute_input": "2022-07-13T15:27:30.106772Z",
     "iopub.status.busy": "2022-07-13T15:27:30.106110Z",
     "iopub.status.idle": "2022-07-13T15:27:30.177064Z",
     "shell.execute_reply": "2022-07-13T15:27:30.176013Z"
    },
    "papermill": {
     "duration": 0.098286,
     "end_time": "2022-07-13T15:27:30.180286",
     "exception": false,
     "start_time": "2022-07-13T15:27:30.082000",
     "status": "completed"
    },
    "tags": []
   },
   "outputs": [
    {
     "name": "stderr",
     "output_type": "stream",
     "text": [
      "No loss specified in compile() - the model's internal loss computation will be used as the loss. Don't panic - this is a common way to train TensorFlow models in Transformers! To disable this behaviour please pass a loss argument, or explicitly pass `loss=None` if you do not want your model to compute a loss.\n"
     ]
    }
   ],
   "source": [
    "from transformers import create_optimizer\n",
    "from transformers.keras_callbacks import PushToHubCallback\n",
    "import tensorflow as tf\n",
    "\n",
    "# The number of training steps is the number of samples in the dataset, divided by the batch size then multiplied\n",
    "# by the total number of epochs. Note that the tf_train_dataset here is a batched tf.data.Dataset,\n",
    "# not the original Hugging Face Dataset, so its len() is already num_samples // batch_size.\n",
    "num_epochs = 3\n",
    "num_train_steps = len(out_data) * num_epochs\n",
    "\n",
    "optimizer, schedule = create_optimizer(\n",
    "    init_lr=5e-5,\n",
    "    num_warmup_steps=0,\n",
    "    num_train_steps=num_train_steps,\n",
    "    weight_decay_rate=0.01,\n",
    ")\n",
    "model.compile(optimizer=optimizer)\n",
    "\n",
    "# Train in mixed-precision float16\n",
    "tf.keras.mixed_precision.set_global_policy(\"mixed_float16\")"
   ]
  },
  {
   "cell_type": "code",
   "execution_count": 29,
   "id": "bf7b18b6",
   "metadata": {
    "execution": {
     "iopub.execute_input": "2022-07-13T15:27:30.278498Z",
     "iopub.status.busy": "2022-07-13T15:27:30.277837Z",
     "iopub.status.idle": "2022-07-13T15:27:30.283274Z",
     "shell.execute_reply": "2022-07-13T15:27:30.282458Z"
    },
    "papermill": {
     "duration": 0.031907,
     "end_time": "2022-07-13T15:27:30.285517",
     "exception": false,
     "start_time": "2022-07-13T15:27:30.253610",
     "status": "completed"
    },
    "tags": []
   },
   "outputs": [
    {
     "name": "stdout",
     "output_type": "stream",
     "text": [
      "Epoch 1/3\n",
      "   8/3988 [..............................] - ETA: 65:18:31 - loss: 4.7969"
     ]
    }
   ],
   "source": [
    "from transformers.keras_callbacks import PushToHubCallback\n",
    "\n",
    "model.fit(\n",
    "    out_data,\n",
    "    epochs=num_epochs,\n",
    "    verbose = 1\n",
    ")"
   ]
  },
  {
   "cell_type": "code",
   "execution_count": null,
   "id": "af761242",
   "metadata": {
    "papermill": {
     "duration": 0.023668,
     "end_time": "2022-07-13T15:27:30.425431",
     "exception": false,
     "start_time": "2022-07-13T15:27:30.401763",
     "status": "completed"
    },
    "tags": []
   },
   "outputs": [],
   "source": []
  }
 ],
 "metadata": {
  "kernelspec": {
   "display_name": "Python 3",
   "language": "python",
   "name": "python3"
  },
  "language_info": {
   "codemirror_mode": {
    "name": "ipython",
    "version": 3
   },
   "file_extension": ".py",
   "mimetype": "text/x-python",
   "name": "python",
   "nbconvert_exporter": "python",
   "pygments_lexer": "ipython3",
   "version": "3.9.13"
  },
  "papermill": {
   "default_parameters": {},
   "duration": 166.992729,
   "end_time": "2022-07-13T15:27:34.142825",
   "environment_variables": {},
   "exception": null,
   "input_path": "__notebook__.ipynb",
   "output_path": "__notebook__.ipynb",
   "parameters": {},
   "start_time": "2022-07-13T15:24:47.150096",
   "version": "2.3.4"
  },
  "widgets": {
   "application/vnd.jupyter.widget-state+json": {
    "state": {
     "01db3b18c83b4849a163f9d4a365ed90": {
      "model_module": "@jupyter-widgets/controls",
      "model_module_version": "1.5.0",
      "model_name": "DescriptionStyleModel",
      "state": {
       "_model_module": "@jupyter-widgets/controls",
       "_model_module_version": "1.5.0",
       "_model_name": "DescriptionStyleModel",
       "_view_count": null,
       "_view_module": "@jupyter-widgets/base",
       "_view_module_version": "1.2.0",
       "_view_name": "StyleView",
       "description_width": ""
      }
     },
     "0d9f698bf6b847fcaa97168e6f8717ef": {
      "model_module": "@jupyter-widgets/controls",
      "model_module_version": "1.5.0",
      "model_name": "HBoxModel",
      "state": {
       "_dom_classes": [],
       "_model_module": "@jupyter-widgets/controls",
       "_model_module_version": "1.5.0",
       "_model_name": "HBoxModel",
       "_view_count": null,
       "_view_module": "@jupyter-widgets/controls",
       "_view_module_version": "1.5.0",
       "_view_name": "HBoxView",
       "box_style": "",
       "children": [
        "IPY_MODEL_51a57e3a7c9f47a2a33cf19149e13f06",
        "IPY_MODEL_0f0a70b22d254739b630ab4b3ef9923e",
        "IPY_MODEL_4dc7f07c8a6845208ef2bd30235fd2cb"
       ],
       "layout": "IPY_MODEL_161128117c984aafa322241ce20864c9"
      }
     },
     "0dd402652b9a4111ab41e09b0e522053": {
      "model_module": "@jupyter-widgets/base",
      "model_module_version": "1.2.0",
      "model_name": "LayoutModel",
      "state": {
       "_model_module": "@jupyter-widgets/base",
       "_model_module_version": "1.2.0",
       "_model_name": "LayoutModel",
       "_view_count": null,
       "_view_module": "@jupyter-widgets/base",
       "_view_module_version": "1.2.0",
       "_view_name": "LayoutView",
       "align_content": null,
       "align_items": null,
       "align_self": null,
       "border": null,
       "bottom": null,
       "display": null,
       "flex": null,
       "flex_flow": null,
       "grid_area": null,
       "grid_auto_columns": null,
       "grid_auto_flow": null,
       "grid_auto_rows": null,
       "grid_column": null,
       "grid_gap": null,
       "grid_row": null,
       "grid_template_areas": null,
       "grid_template_columns": null,
       "grid_template_rows": null,
       "height": null,
       "justify_content": null,
       "justify_items": null,
       "left": null,
       "margin": null,
       "max_height": null,
       "max_width": null,
       "min_height": null,
       "min_width": null,
       "object_fit": null,
       "object_position": null,
       "order": null,
       "overflow": null,
       "overflow_x": null,
       "overflow_y": null,
       "padding": null,
       "right": null,
       "top": null,
       "visibility": null,
       "width": null
      }
     },
     "0f0a70b22d254739b630ab4b3ef9923e": {
      "model_module": "@jupyter-widgets/controls",
      "model_module_version": "1.5.0",
      "model_name": "FloatProgressModel",
      "state": {
       "_dom_classes": [],
       "_model_module": "@jupyter-widgets/controls",
       "_model_module_version": "1.5.0",
       "_model_name": "FloatProgressModel",
       "_view_count": null,
       "_view_module": "@jupyter-widgets/controls",
       "_view_module_version": "1.5.0",
       "_view_name": "ProgressView",
       "bar_style": "success",
       "description": "",
       "description_tooltip": null,
       "layout": "IPY_MODEL_de2b13641a0b44918a6b4dc4dc23203e",
       "max": 128,
       "min": 0,
       "orientation": "horizontal",
       "style": "IPY_MODEL_edd88f088a5841459b3850a5a597b4b8",
       "value": 128
      }
     },
     "147c2aad16e441b78a038eb2393891f1": {
      "model_module": "@jupyter-widgets/controls",
      "model_module_version": "1.5.0",
      "model_name": "DescriptionStyleModel",
      "state": {
       "_model_module": "@jupyter-widgets/controls",
       "_model_module_version": "1.5.0",
       "_model_name": "DescriptionStyleModel",
       "_view_count": null,
       "_view_module": "@jupyter-widgets/base",
       "_view_module_version": "1.2.0",
       "_view_name": "StyleView",
       "description_width": ""
      }
     },
     "161128117c984aafa322241ce20864c9": {
      "model_module": "@jupyter-widgets/base",
      "model_module_version": "1.2.0",
      "model_name": "LayoutModel",
      "state": {
       "_model_module": "@jupyter-widgets/base",
       "_model_module_version": "1.2.0",
       "_model_name": "LayoutModel",
       "_view_count": null,
       "_view_module": "@jupyter-widgets/base",
       "_view_module_version": "1.2.0",
       "_view_name": "LayoutView",
       "align_content": null,
       "align_items": null,
       "align_self": null,
       "border": null,
       "bottom": null,
       "display": null,
       "flex": null,
       "flex_flow": null,
       "grid_area": null,
       "grid_auto_columns": null,
       "grid_auto_flow": null,
       "grid_auto_rows": null,
       "grid_column": null,
       "grid_gap": null,
       "grid_row": null,
       "grid_template_areas": null,
       "grid_template_columns": null,
       "grid_template_rows": null,
       "height": null,
       "justify_content": null,
       "justify_items": null,
       "left": null,
       "margin": null,
       "max_height": null,
       "max_width": null,
       "min_height": null,
       "min_width": null,
       "object_fit": null,
       "object_position": null,
       "order": null,
       "overflow": null,
       "overflow_x": null,
       "overflow_y": null,
       "padding": null,
       "right": null,
       "top": null,
       "visibility": null,
       "width": null
      }
     },
     "1759f93aa7a349b693c473c6df4381fc": {
      "model_module": "@jupyter-widgets/controls",
      "model_module_version": "1.5.0",
      "model_name": "FloatProgressModel",
      "state": {
       "_dom_classes": [],
       "_model_module": "@jupyter-widgets/controls",
       "_model_module_version": "1.5.0",
       "_model_name": "FloatProgressModel",
       "_view_count": null,
       "_view_module": "@jupyter-widgets/controls",
       "_view_module_version": "1.5.0",
       "_view_name": "ProgressView",
       "bar_style": "success",
       "description": "",
       "description_tooltip": null,
       "layout": "IPY_MODEL_5e1b1d977a7040b08d37f4684dd73e3a",
       "max": 44,
       "min": 0,
       "orientation": "horizontal",
       "style": "IPY_MODEL_23f1045c4f954a98841834d7a9b47f92",
       "value": 44
      }
     },
     "17cd05bbdea94b03a70e3849f47faac2": {
      "model_module": "@jupyter-widgets/base",
      "model_module_version": "1.2.0",
      "model_name": "LayoutModel",
      "state": {
       "_model_module": "@jupyter-widgets/base",
       "_model_module_version": "1.2.0",
       "_model_name": "LayoutModel",
       "_view_count": null,
       "_view_module": "@jupyter-widgets/base",
       "_view_module_version": "1.2.0",
       "_view_name": "LayoutView",
       "align_content": null,
       "align_items": null,
       "align_self": null,
       "border": null,
       "bottom": null,
       "display": null,
       "flex": null,
       "flex_flow": null,
       "grid_area": null,
       "grid_auto_columns": null,
       "grid_auto_flow": null,
       "grid_auto_rows": null,
       "grid_column": null,
       "grid_gap": null,
       "grid_row": null,
       "grid_template_areas": null,
       "grid_template_columns": null,
       "grid_template_rows": null,
       "height": null,
       "justify_content": null,
       "justify_items": null,
       "left": null,
       "margin": null,
       "max_height": null,
       "max_width": null,
       "min_height": null,
       "min_width": null,
       "object_fit": null,
       "object_position": null,
       "order": null,
       "overflow": null,
       "overflow_x": null,
       "overflow_y": null,
       "padding": null,
       "right": null,
       "top": null,
       "visibility": null,
       "width": null
      }
     },
     "18d26b62355c4fd6857d89ea09ba6385": {
      "model_module": "@jupyter-widgets/base",
      "model_module_version": "1.2.0",
      "model_name": "LayoutModel",
      "state": {
       "_model_module": "@jupyter-widgets/base",
       "_model_module_version": "1.2.0",
       "_model_name": "LayoutModel",
       "_view_count": null,
       "_view_module": "@jupyter-widgets/base",
       "_view_module_version": "1.2.0",
       "_view_name": "LayoutView",
       "align_content": null,
       "align_items": null,
       "align_self": null,
       "border": null,
       "bottom": null,
       "display": null,
       "flex": null,
       "flex_flow": null,
       "grid_area": null,
       "grid_auto_columns": null,
       "grid_auto_flow": null,
       "grid_auto_rows": null,
       "grid_column": null,
       "grid_gap": null,
       "grid_row": null,
       "grid_template_areas": null,
       "grid_template_columns": null,
       "grid_template_rows": null,
       "height": null,
       "justify_content": null,
       "justify_items": null,
       "left": null,
       "margin": null,
       "max_height": null,
       "max_width": null,
       "min_height": null,
       "min_width": null,
       "object_fit": null,
       "object_position": null,
       "order": null,
       "overflow": null,
       "overflow_x": null,
       "overflow_y": null,
       "padding": null,
       "right": null,
       "top": null,
       "visibility": null,
       "width": null
      }
     },
     "198d0d09587c4cecaafd0a5237a5cc54": {
      "model_module": "@jupyter-widgets/base",
      "model_module_version": "1.2.0",
      "model_name": "LayoutModel",
      "state": {
       "_model_module": "@jupyter-widgets/base",
       "_model_module_version": "1.2.0",
       "_model_name": "LayoutModel",
       "_view_count": null,
       "_view_module": "@jupyter-widgets/base",
       "_view_module_version": "1.2.0",
       "_view_name": "LayoutView",
       "align_content": null,
       "align_items": null,
       "align_self": null,
       "border": null,
       "bottom": null,
       "display": null,
       "flex": null,
       "flex_flow": null,
       "grid_area": null,
       "grid_auto_columns": null,
       "grid_auto_flow": null,
       "grid_auto_rows": null,
       "grid_column": null,
       "grid_gap": null,
       "grid_row": null,
       "grid_template_areas": null,
       "grid_template_columns": null,
       "grid_template_rows": null,
       "height": null,
       "justify_content": null,
       "justify_items": null,
       "left": null,
       "margin": null,
       "max_height": null,
       "max_width": null,
       "min_height": null,
       "min_width": null,
       "object_fit": null,
       "object_position": null,
       "order": null,
       "overflow": null,
       "overflow_x": null,
       "overflow_y": null,
       "padding": null,
       "right": null,
       "top": null,
       "visibility": null,
       "width": null
      }
     },
     "1cc2f831018342aab52cd4c38f4db5b3": {
      "model_module": "@jupyter-widgets/controls",
      "model_module_version": "1.5.0",
      "model_name": "ProgressStyleModel",
      "state": {
       "_model_module": "@jupyter-widgets/controls",
       "_model_module_version": "1.5.0",
       "_model_name": "ProgressStyleModel",
       "_view_count": null,
       "_view_module": "@jupyter-widgets/base",
       "_view_module_version": "1.2.0",
       "_view_name": "StyleView",
       "bar_color": null,
       "description_width": ""
      }
     },
     "1cf049da380b43dba02406ae2784e3b1": {
      "model_module": "@jupyter-widgets/controls",
      "model_module_version": "1.5.0",
      "model_name": "ProgressStyleModel",
      "state": {
       "_model_module": "@jupyter-widgets/controls",
       "_model_module_version": "1.5.0",
       "_model_name": "ProgressStyleModel",
       "_view_count": null,
       "_view_module": "@jupyter-widgets/base",
       "_view_module_version": "1.2.0",
       "_view_name": "StyleView",
       "bar_color": null,
       "description_width": ""
      }
     },
     "23769336f0ea4f6eafabb8dbfa7422d3": {
      "model_module": "@jupyter-widgets/base",
      "model_module_version": "1.2.0",
      "model_name": "LayoutModel",
      "state": {
       "_model_module": "@jupyter-widgets/base",
       "_model_module_version": "1.2.0",
       "_model_name": "LayoutModel",
       "_view_count": null,
       "_view_module": "@jupyter-widgets/base",
       "_view_module_version": "1.2.0",
       "_view_name": "LayoutView",
       "align_content": null,
       "align_items": null,
       "align_self": null,
       "border": null,
       "bottom": null,
       "display": null,
       "flex": null,
       "flex_flow": null,
       "grid_area": null,
       "grid_auto_columns": null,
       "grid_auto_flow": null,
       "grid_auto_rows": null,
       "grid_column": null,
       "grid_gap": null,
       "grid_row": null,
       "grid_template_areas": null,
       "grid_template_columns": null,
       "grid_template_rows": null,
       "height": null,
       "justify_content": null,
       "justify_items": null,
       "left": null,
       "margin": null,
       "max_height": null,
       "max_width": null,
       "min_height": null,
       "min_width": null,
       "object_fit": null,
       "object_position": null,
       "order": null,
       "overflow": null,
       "overflow_x": null,
       "overflow_y": null,
       "padding": null,
       "right": null,
       "top": null,
       "visibility": null,
       "width": null
      }
     },
     "23f1045c4f954a98841834d7a9b47f92": {
      "model_module": "@jupyter-widgets/controls",
      "model_module_version": "1.5.0",
      "model_name": "ProgressStyleModel",
      "state": {
       "_model_module": "@jupyter-widgets/controls",
       "_model_module_version": "1.5.0",
       "_model_name": "ProgressStyleModel",
       "_view_count": null,
       "_view_module": "@jupyter-widgets/base",
       "_view_module_version": "1.2.0",
       "_view_name": "StyleView",
       "bar_color": null,
       "description_width": ""
      }
     },
     "25f23355b5b641ceafdc3c5df520578c": {
      "model_module": "@jupyter-widgets/controls",
      "model_module_version": "1.5.0",
      "model_name": "DescriptionStyleModel",
      "state": {
       "_model_module": "@jupyter-widgets/controls",
       "_model_module_version": "1.5.0",
       "_model_name": "DescriptionStyleModel",
       "_view_count": null,
       "_view_module": "@jupyter-widgets/base",
       "_view_module_version": "1.2.0",
       "_view_name": "StyleView",
       "description_width": ""
      }
     },
     "26f0d239a486411ca577d02c153b8c4b": {
      "model_module": "@jupyter-widgets/controls",
      "model_module_version": "1.5.0",
      "model_name": "DescriptionStyleModel",
      "state": {
       "_model_module": "@jupyter-widgets/controls",
       "_model_module_version": "1.5.0",
       "_model_name": "DescriptionStyleModel",
       "_view_count": null,
       "_view_module": "@jupyter-widgets/base",
       "_view_module_version": "1.2.0",
       "_view_name": "StyleView",
       "description_width": ""
      }
     },
     "2b0154c5afde488c95b084090fd53208": {
      "model_module": "@jupyter-widgets/controls",
      "model_module_version": "1.5.0",
      "model_name": "DescriptionStyleModel",
      "state": {
       "_model_module": "@jupyter-widgets/controls",
       "_model_module_version": "1.5.0",
       "_model_name": "DescriptionStyleModel",
       "_view_count": null,
       "_view_module": "@jupyter-widgets/base",
       "_view_module_version": "1.2.0",
       "_view_name": "StyleView",
       "description_width": ""
      }
     },
     "2d65bc28a17e46e5a5a331a1c3812ce8": {
      "model_module": "@jupyter-widgets/base",
      "model_module_version": "1.2.0",
      "model_name": "LayoutModel",
      "state": {
       "_model_module": "@jupyter-widgets/base",
       "_model_module_version": "1.2.0",
       "_model_name": "LayoutModel",
       "_view_count": null,
       "_view_module": "@jupyter-widgets/base",
       "_view_module_version": "1.2.0",
       "_view_name": "LayoutView",
       "align_content": null,
       "align_items": null,
       "align_self": null,
       "border": null,
       "bottom": null,
       "display": null,
       "flex": null,
       "flex_flow": null,
       "grid_area": null,
       "grid_auto_columns": null,
       "grid_auto_flow": null,
       "grid_auto_rows": null,
       "grid_column": null,
       "grid_gap": null,
       "grid_row": null,
       "grid_template_areas": null,
       "grid_template_columns": null,
       "grid_template_rows": null,
       "height": null,
       "justify_content": null,
       "justify_items": null,
       "left": null,
       "margin": null,
       "max_height": null,
       "max_width": null,
       "min_height": null,
       "min_width": null,
       "object_fit": null,
       "object_position": null,
       "order": null,
       "overflow": null,
       "overflow_x": null,
       "overflow_y": null,
       "padding": null,
       "right": null,
       "top": null,
       "visibility": null,
       "width": null
      }
     },
     "2f0f1c83c6e24d70bc38c62b6904f15e": {
      "model_module": "@jupyter-widgets/controls",
      "model_module_version": "1.5.0",
      "model_name": "HTMLModel",
      "state": {
       "_dom_classes": [],
       "_model_module": "@jupyter-widgets/controls",
       "_model_module_version": "1.5.0",
       "_model_name": "HTMLModel",
       "_view_count": null,
       "_view_module": "@jupyter-widgets/controls",
       "_view_module_version": "1.5.0",
       "_view_name": "HTMLView",
       "description": "",
       "description_tooltip": null,
       "layout": "IPY_MODEL_9c7cc72babf249338a5ec563c453ff23",
       "placeholder": "​",
       "style": "IPY_MODEL_7fa06bdd446942f793363b6e8ef7c7e8",
       "value": " 1.12k/1.12k [00:00&lt;00:00, 25.6kB/s]"
      }
     },
     "2f80655f3f1d4ca3b32e91ed8dc25019": {
      "model_module": "@jupyter-widgets/controls",
      "model_module_version": "1.5.0",
      "model_name": "DescriptionStyleModel",
      "state": {
       "_model_module": "@jupyter-widgets/controls",
       "_model_module_version": "1.5.0",
       "_model_name": "DescriptionStyleModel",
       "_view_count": null,
       "_view_module": "@jupyter-widgets/base",
       "_view_module_version": "1.2.0",
       "_view_name": "StyleView",
       "description_width": ""
      }
     },
     "2fb5219c3f8b4b8281b8ee1c1e280a08": {
      "model_module": "@jupyter-widgets/controls",
      "model_module_version": "1.5.0",
      "model_name": "DescriptionStyleModel",
      "state": {
       "_model_module": "@jupyter-widgets/controls",
       "_model_module_version": "1.5.0",
       "_model_name": "DescriptionStyleModel",
       "_view_count": null,
       "_view_module": "@jupyter-widgets/base",
       "_view_module_version": "1.2.0",
       "_view_name": "StyleView",
       "description_width": ""
      }
     },
     "386f4b0677634efe9db34c28c190e453": {
      "model_module": "@jupyter-widgets/base",
      "model_module_version": "1.2.0",
      "model_name": "LayoutModel",
      "state": {
       "_model_module": "@jupyter-widgets/base",
       "_model_module_version": "1.2.0",
       "_model_name": "LayoutModel",
       "_view_count": null,
       "_view_module": "@jupyter-widgets/base",
       "_view_module_version": "1.2.0",
       "_view_name": "LayoutView",
       "align_content": null,
       "align_items": null,
       "align_self": null,
       "border": null,
       "bottom": null,
       "display": null,
       "flex": null,
       "flex_flow": null,
       "grid_area": null,
       "grid_auto_columns": null,
       "grid_auto_flow": null,
       "grid_auto_rows": null,
       "grid_column": null,
       "grid_gap": null,
       "grid_row": null,
       "grid_template_areas": null,
       "grid_template_columns": null,
       "grid_template_rows": null,
       "height": null,
       "justify_content": null,
       "justify_items": null,
       "left": null,
       "margin": null,
       "max_height": null,
       "max_width": null,
       "min_height": null,
       "min_width": null,
       "object_fit": null,
       "object_position": null,
       "order": null,
       "overflow": null,
       "overflow_x": null,
       "overflow_y": null,
       "padding": null,
       "right": null,
       "top": null,
       "visibility": null,
       "width": null
      }
     },
     "3b8526ba308e44a097154afe487e5dba": {
      "model_module": "@jupyter-widgets/base",
      "model_module_version": "1.2.0",
      "model_name": "LayoutModel",
      "state": {
       "_model_module": "@jupyter-widgets/base",
       "_model_module_version": "1.2.0",
       "_model_name": "LayoutModel",
       "_view_count": null,
       "_view_module": "@jupyter-widgets/base",
       "_view_module_version": "1.2.0",
       "_view_name": "LayoutView",
       "align_content": null,
       "align_items": null,
       "align_self": null,
       "border": null,
       "bottom": null,
       "display": null,
       "flex": null,
       "flex_flow": null,
       "grid_area": null,
       "grid_auto_columns": null,
       "grid_auto_flow": null,
       "grid_auto_rows": null,
       "grid_column": null,
       "grid_gap": null,
       "grid_row": null,
       "grid_template_areas": null,
       "grid_template_columns": null,
       "grid_template_rows": null,
       "height": null,
       "justify_content": null,
       "justify_items": null,
       "left": null,
       "margin": null,
       "max_height": null,
       "max_width": null,
       "min_height": null,
       "min_width": null,
       "object_fit": null,
       "object_position": null,
       "order": null,
       "overflow": null,
       "overflow_x": null,
       "overflow_y": null,
       "padding": null,
       "right": null,
       "top": null,
       "visibility": null,
       "width": null
      }
     },
     "3c79d41111e045c6ae99bed73eaa218e": {
      "model_module": "@jupyter-widgets/controls",
      "model_module_version": "1.5.0",
      "model_name": "ProgressStyleModel",
      "state": {
       "_model_module": "@jupyter-widgets/controls",
       "_model_module_version": "1.5.0",
       "_model_name": "ProgressStyleModel",
       "_view_count": null,
       "_view_module": "@jupyter-widgets/base",
       "_view_module_version": "1.2.0",
       "_view_name": "StyleView",
       "bar_color": null,
       "description_width": ""
      }
     },
     "3df4c6d1887d4374a4c8534eaf3fe4fb": {
      "model_module": "@jupyter-widgets/base",
      "model_module_version": "1.2.0",
      "model_name": "LayoutModel",
      "state": {
       "_model_module": "@jupyter-widgets/base",
       "_model_module_version": "1.2.0",
       "_model_name": "LayoutModel",
       "_view_count": null,
       "_view_module": "@jupyter-widgets/base",
       "_view_module_version": "1.2.0",
       "_view_name": "LayoutView",
       "align_content": null,
       "align_items": null,
       "align_self": null,
       "border": null,
       "bottom": null,
       "display": null,
       "flex": null,
       "flex_flow": null,
       "grid_area": null,
       "grid_auto_columns": null,
       "grid_auto_flow": null,
       "grid_auto_rows": null,
       "grid_column": null,
       "grid_gap": null,
       "grid_row": null,
       "grid_template_areas": null,
       "grid_template_columns": null,
       "grid_template_rows": null,
       "height": null,
       "justify_content": null,
       "justify_items": null,
       "left": null,
       "margin": null,
       "max_height": null,
       "max_width": null,
       "min_height": null,
       "min_width": null,
       "object_fit": null,
       "object_position": null,
       "order": null,
       "overflow": null,
       "overflow_x": null,
       "overflow_y": null,
       "padding": null,
       "right": null,
       "top": null,
       "visibility": null,
       "width": null
      }
     },
     "413fcba358094632ad35048fbc635327": {
      "model_module": "@jupyter-widgets/base",
      "model_module_version": "1.2.0",
      "model_name": "LayoutModel",
      "state": {
       "_model_module": "@jupyter-widgets/base",
       "_model_module_version": "1.2.0",
       "_model_name": "LayoutModel",
       "_view_count": null,
       "_view_module": "@jupyter-widgets/base",
       "_view_module_version": "1.2.0",
       "_view_name": "LayoutView",
       "align_content": null,
       "align_items": null,
       "align_self": null,
       "border": null,
       "bottom": null,
       "display": null,
       "flex": null,
       "flex_flow": null,
       "grid_area": null,
       "grid_auto_columns": null,
       "grid_auto_flow": null,
       "grid_auto_rows": null,
       "grid_column": null,
       "grid_gap": null,
       "grid_row": null,
       "grid_template_areas": null,
       "grid_template_columns": null,
       "grid_template_rows": null,
       "height": null,
       "justify_content": null,
       "justify_items": null,
       "left": null,
       "margin": null,
       "max_height": null,
       "max_width": null,
       "min_height": null,
       "min_width": null,
       "object_fit": null,
       "object_position": null,
       "order": null,
       "overflow": null,
       "overflow_x": null,
       "overflow_y": null,
       "padding": null,
       "right": null,
       "top": null,
       "visibility": null,
       "width": null
      }
     },
     "42835069c68347ad99238bb3c9d91b7a": {
      "model_module": "@jupyter-widgets/controls",
      "model_module_version": "1.5.0",
      "model_name": "HTMLModel",
      "state": {
       "_dom_classes": [],
       "_model_module": "@jupyter-widgets/controls",
       "_model_module_version": "1.5.0",
       "_model_name": "HTMLModel",
       "_view_count": null,
       "_view_module": "@jupyter-widgets/controls",
       "_view_module_version": "1.5.0",
       "_view_name": "HTMLView",
       "description": "",
       "description_tooltip": null,
       "layout": "IPY_MODEL_0dd402652b9a4111ab41e09b0e522053",
       "placeholder": "​",
       "style": "IPY_MODEL_26f0d239a486411ca577d02c153b8c4b",
       "value": "Downloading: 100%"
      }
     },
     "4a5e523eb2084c7cbbfa19af795c6633": {
      "model_module": "@jupyter-widgets/base",
      "model_module_version": "1.2.0",
      "model_name": "LayoutModel",
      "state": {
       "_model_module": "@jupyter-widgets/base",
       "_model_module_version": "1.2.0",
       "_model_name": "LayoutModel",
       "_view_count": null,
       "_view_module": "@jupyter-widgets/base",
       "_view_module_version": "1.2.0",
       "_view_name": "LayoutView",
       "align_content": null,
       "align_items": null,
       "align_self": null,
       "border": null,
       "bottom": null,
       "display": null,
       "flex": null,
       "flex_flow": null,
       "grid_area": null,
       "grid_auto_columns": null,
       "grid_auto_flow": null,
       "grid_auto_rows": null,
       "grid_column": null,
       "grid_gap": null,
       "grid_row": null,
       "grid_template_areas": null,
       "grid_template_columns": null,
       "grid_template_rows": null,
       "height": null,
       "justify_content": null,
       "justify_items": null,
       "left": null,
       "margin": null,
       "max_height": null,
       "max_width": null,
       "min_height": null,
       "min_width": null,
       "object_fit": null,
       "object_position": null,
       "order": null,
       "overflow": null,
       "overflow_x": null,
       "overflow_y": null,
       "padding": null,
       "right": null,
       "top": null,
       "visibility": null,
       "width": null
      }
     },
     "4dc7f07c8a6845208ef2bd30235fd2cb": {
      "model_module": "@jupyter-widgets/controls",
      "model_module_version": "1.5.0",
      "model_name": "HTMLModel",
      "state": {
       "_dom_classes": [],
       "_model_module": "@jupyter-widgets/controls",
       "_model_module_version": "1.5.0",
       "_model_name": "HTMLModel",
       "_view_count": null,
       "_view_module": "@jupyter-widgets/controls",
       "_view_module_version": "1.5.0",
       "_view_name": "HTMLView",
       "description": "",
       "description_tooltip": null,
       "layout": "IPY_MODEL_b035ead8f490481ebf9711e3968d904b",
       "placeholder": "​",
       "style": "IPY_MODEL_2fb5219c3f8b4b8281b8ee1c1e280a08",
       "value": " 128/128 [00:58&lt;00:00,  2.39ba/s]"
      }
     },
     "4f56b334a24f462185ba8c407d44fd71": {
      "model_module": "@jupyter-widgets/base",
      "model_module_version": "1.2.0",
      "model_name": "LayoutModel",
      "state": {
       "_model_module": "@jupyter-widgets/base",
       "_model_module_version": "1.2.0",
       "_model_name": "LayoutModel",
       "_view_count": null,
       "_view_module": "@jupyter-widgets/base",
       "_view_module_version": "1.2.0",
       "_view_name": "LayoutView",
       "align_content": null,
       "align_items": null,
       "align_self": null,
       "border": null,
       "bottom": null,
       "display": null,
       "flex": null,
       "flex_flow": null,
       "grid_area": null,
       "grid_auto_columns": null,
       "grid_auto_flow": null,
       "grid_auto_rows": null,
       "grid_column": null,
       "grid_gap": null,
       "grid_row": null,
       "grid_template_areas": null,
       "grid_template_columns": null,
       "grid_template_rows": null,
       "height": null,
       "justify_content": null,
       "justify_items": null,
       "left": null,
       "margin": null,
       "max_height": null,
       "max_width": null,
       "min_height": null,
       "min_width": null,
       "object_fit": null,
       "object_position": null,
       "order": null,
       "overflow": null,
       "overflow_x": null,
       "overflow_y": null,
       "padding": null,
       "right": null,
       "top": null,
       "visibility": null,
       "width": null
      }
     },
     "5097bce915be467fbf2bbe5884416f8b": {
      "model_module": "@jupyter-widgets/controls",
      "model_module_version": "1.5.0",
      "model_name": "HTMLModel",
      "state": {
       "_dom_classes": [],
       "_model_module": "@jupyter-widgets/controls",
       "_model_module_version": "1.5.0",
       "_model_name": "HTMLModel",
       "_view_count": null,
       "_view_module": "@jupyter-widgets/controls",
       "_view_module_version": "1.5.0",
       "_view_name": "HTMLView",
       "description": "",
       "description_tooltip": null,
       "layout": "IPY_MODEL_198d0d09587c4cecaafd0a5237a5cc54",
       "placeholder": "​",
       "style": "IPY_MODEL_a48f70609efa4f4b8f0071b8a049d474",
       "value": " 44.0/44.0 [00:00&lt;00:00, 1.17kB/s]"
      }
     },
     "51a57e3a7c9f47a2a33cf19149e13f06": {
      "model_module": "@jupyter-widgets/controls",
      "model_module_version": "1.5.0",
      "model_name": "HTMLModel",
      "state": {
       "_dom_classes": [],
       "_model_module": "@jupyter-widgets/controls",
       "_model_module_version": "1.5.0",
       "_model_name": "HTMLModel",
       "_view_count": null,
       "_view_module": "@jupyter-widgets/controls",
       "_view_module_version": "1.5.0",
       "_view_name": "HTMLView",
       "description": "",
       "description_tooltip": null,
       "layout": "IPY_MODEL_60eace24a4094feb984d7ac4988b26a2",
       "placeholder": "​",
       "style": "IPY_MODEL_2b0154c5afde488c95b084090fd53208",
       "value": "100%"
      }
     },
     "54cff932345b4d229affa1cb94f885f4": {
      "model_module": "@jupyter-widgets/controls",
      "model_module_version": "1.5.0",
      "model_name": "DescriptionStyleModel",
      "state": {
       "_model_module": "@jupyter-widgets/controls",
       "_model_module_version": "1.5.0",
       "_model_name": "DescriptionStyleModel",
       "_view_count": null,
       "_view_module": "@jupyter-widgets/base",
       "_view_module_version": "1.2.0",
       "_view_name": "StyleView",
       "description_width": ""
      }
     },
     "573819d5842549189fb1f091390134b7": {
      "model_module": "@jupyter-widgets/base",
      "model_module_version": "1.2.0",
      "model_name": "LayoutModel",
      "state": {
       "_model_module": "@jupyter-widgets/base",
       "_model_module_version": "1.2.0",
       "_model_name": "LayoutModel",
       "_view_count": null,
       "_view_module": "@jupyter-widgets/base",
       "_view_module_version": "1.2.0",
       "_view_name": "LayoutView",
       "align_content": null,
       "align_items": null,
       "align_self": null,
       "border": null,
       "bottom": null,
       "display": null,
       "flex": null,
       "flex_flow": null,
       "grid_area": null,
       "grid_auto_columns": null,
       "grid_auto_flow": null,
       "grid_auto_rows": null,
       "grid_column": null,
       "grid_gap": null,
       "grid_row": null,
       "grid_template_areas": null,
       "grid_template_columns": null,
       "grid_template_rows": null,
       "height": null,
       "justify_content": null,
       "justify_items": null,
       "left": null,
       "margin": null,
       "max_height": null,
       "max_width": null,
       "min_height": null,
       "min_width": null,
       "object_fit": null,
       "object_position": null,
       "order": null,
       "overflow": null,
       "overflow_x": null,
       "overflow_y": null,
       "padding": null,
       "right": null,
       "top": null,
       "visibility": null,
       "width": null
      }
     },
     "5a0df400466a4963a0cd1f87cd9adb4e": {
      "model_module": "@jupyter-widgets/base",
      "model_module_version": "1.2.0",
      "model_name": "LayoutModel",
      "state": {
       "_model_module": "@jupyter-widgets/base",
       "_model_module_version": "1.2.0",
       "_model_name": "LayoutModel",
       "_view_count": null,
       "_view_module": "@jupyter-widgets/base",
       "_view_module_version": "1.2.0",
       "_view_name": "LayoutView",
       "align_content": null,
       "align_items": null,
       "align_self": null,
       "border": null,
       "bottom": null,
       "display": null,
       "flex": null,
       "flex_flow": null,
       "grid_area": null,
       "grid_auto_columns": null,
       "grid_auto_flow": null,
       "grid_auto_rows": null,
       "grid_column": null,
       "grid_gap": null,
       "grid_row": null,
       "grid_template_areas": null,
       "grid_template_columns": null,
       "grid_template_rows": null,
       "height": null,
       "justify_content": null,
       "justify_items": null,
       "left": null,
       "margin": null,
       "max_height": null,
       "max_width": null,
       "min_height": null,
       "min_width": null,
       "object_fit": null,
       "object_position": null,
       "order": null,
       "overflow": null,
       "overflow_x": null,
       "overflow_y": null,
       "padding": null,
       "right": null,
       "top": null,
       "visibility": null,
       "width": null
      }
     },
     "5c1bf10529fd44fba4f23fa904abaa8d": {
      "model_module": "@jupyter-widgets/controls",
      "model_module_version": "1.5.0",
      "model_name": "HBoxModel",
      "state": {
       "_dom_classes": [],
       "_model_module": "@jupyter-widgets/controls",
       "_model_module_version": "1.5.0",
       "_model_name": "HBoxModel",
       "_view_count": null,
       "_view_module": "@jupyter-widgets/controls",
       "_view_module_version": "1.5.0",
       "_view_name": "HBoxView",
       "box_style": "",
       "children": [
        "IPY_MODEL_789a385d607d4070a9cda5617c628743",
        "IPY_MODEL_eb5e562b574c40b29b798f580a17fc65",
        "IPY_MODEL_70b2580aa7534f34a28875abaa91e62e"
       ],
       "layout": "IPY_MODEL_4f56b334a24f462185ba8c407d44fd71"
      }
     },
     "5cd82bf7f86843caa49825fc0dec5581": {
      "model_module": "@jupyter-widgets/base",
      "model_module_version": "1.2.0",
      "model_name": "LayoutModel",
      "state": {
       "_model_module": "@jupyter-widgets/base",
       "_model_module_version": "1.2.0",
       "_model_name": "LayoutModel",
       "_view_count": null,
       "_view_module": "@jupyter-widgets/base",
       "_view_module_version": "1.2.0",
       "_view_name": "LayoutView",
       "align_content": null,
       "align_items": null,
       "align_self": null,
       "border": null,
       "bottom": null,
       "display": null,
       "flex": null,
       "flex_flow": null,
       "grid_area": null,
       "grid_auto_columns": null,
       "grid_auto_flow": null,
       "grid_auto_rows": null,
       "grid_column": null,
       "grid_gap": null,
       "grid_row": null,
       "grid_template_areas": null,
       "grid_template_columns": null,
       "grid_template_rows": null,
       "height": null,
       "justify_content": null,
       "justify_items": null,
       "left": null,
       "margin": null,
       "max_height": null,
       "max_width": null,
       "min_height": null,
       "min_width": null,
       "object_fit": null,
       "object_position": null,
       "order": null,
       "overflow": null,
       "overflow_x": null,
       "overflow_y": null,
       "padding": null,
       "right": null,
       "top": null,
       "visibility": null,
       "width": null
      }
     },
     "5e1b1d977a7040b08d37f4684dd73e3a": {
      "model_module": "@jupyter-widgets/base",
      "model_module_version": "1.2.0",
      "model_name": "LayoutModel",
      "state": {
       "_model_module": "@jupyter-widgets/base",
       "_model_module_version": "1.2.0",
       "_model_name": "LayoutModel",
       "_view_count": null,
       "_view_module": "@jupyter-widgets/base",
       "_view_module_version": "1.2.0",
       "_view_name": "LayoutView",
       "align_content": null,
       "align_items": null,
       "align_self": null,
       "border": null,
       "bottom": null,
       "display": null,
       "flex": null,
       "flex_flow": null,
       "grid_area": null,
       "grid_auto_columns": null,
       "grid_auto_flow": null,
       "grid_auto_rows": null,
       "grid_column": null,
       "grid_gap": null,
       "grid_row": null,
       "grid_template_areas": null,
       "grid_template_columns": null,
       "grid_template_rows": null,
       "height": null,
       "justify_content": null,
       "justify_items": null,
       "left": null,
       "margin": null,
       "max_height": null,
       "max_width": null,
       "min_height": null,
       "min_width": null,
       "object_fit": null,
       "object_position": null,
       "order": null,
       "overflow": null,
       "overflow_x": null,
       "overflow_y": null,
       "padding": null,
       "right": null,
       "top": null,
       "visibility": null,
       "width": null
      }
     },
     "60eace24a4094feb984d7ac4988b26a2": {
      "model_module": "@jupyter-widgets/base",
      "model_module_version": "1.2.0",
      "model_name": "LayoutModel",
      "state": {
       "_model_module": "@jupyter-widgets/base",
       "_model_module_version": "1.2.0",
       "_model_name": "LayoutModel",
       "_view_count": null,
       "_view_module": "@jupyter-widgets/base",
       "_view_module_version": "1.2.0",
       "_view_name": "LayoutView",
       "align_content": null,
       "align_items": null,
       "align_self": null,
       "border": null,
       "bottom": null,
       "display": null,
       "flex": null,
       "flex_flow": null,
       "grid_area": null,
       "grid_auto_columns": null,
       "grid_auto_flow": null,
       "grid_auto_rows": null,
       "grid_column": null,
       "grid_gap": null,
       "grid_row": null,
       "grid_template_areas": null,
       "grid_template_columns": null,
       "grid_template_rows": null,
       "height": null,
       "justify_content": null,
       "justify_items": null,
       "left": null,
       "margin": null,
       "max_height": null,
       "max_width": null,
       "min_height": null,
       "min_width": null,
       "object_fit": null,
       "object_position": null,
       "order": null,
       "overflow": null,
       "overflow_x": null,
       "overflow_y": null,
       "padding": null,
       "right": null,
       "top": null,
       "visibility": null,
       "width": null
      }
     },
     "621c5c3068f341069ea290e634718f04": {
      "model_module": "@jupyter-widgets/base",
      "model_module_version": "1.2.0",
      "model_name": "LayoutModel",
      "state": {
       "_model_module": "@jupyter-widgets/base",
       "_model_module_version": "1.2.0",
       "_model_name": "LayoutModel",
       "_view_count": null,
       "_view_module": "@jupyter-widgets/base",
       "_view_module_version": "1.2.0",
       "_view_name": "LayoutView",
       "align_content": null,
       "align_items": null,
       "align_self": null,
       "border": null,
       "bottom": null,
       "display": null,
       "flex": null,
       "flex_flow": null,
       "grid_area": null,
       "grid_auto_columns": null,
       "grid_auto_flow": null,
       "grid_auto_rows": null,
       "grid_column": null,
       "grid_gap": null,
       "grid_row": null,
       "grid_template_areas": null,
       "grid_template_columns": null,
       "grid_template_rows": null,
       "height": null,
       "justify_content": null,
       "justify_items": null,
       "left": null,
       "margin": null,
       "max_height": null,
       "max_width": null,
       "min_height": null,
       "min_width": null,
       "object_fit": null,
       "object_position": null,
       "order": null,
       "overflow": null,
       "overflow_x": null,
       "overflow_y": null,
       "padding": null,
       "right": null,
       "top": null,
       "visibility": null,
       "width": null
      }
     },
     "692204ef66b74f8488154307544d7777": {
      "model_module": "@jupyter-widgets/controls",
      "model_module_version": "1.5.0",
      "model_name": "FloatProgressModel",
      "state": {
       "_dom_classes": [],
       "_model_module": "@jupyter-widgets/controls",
       "_model_module_version": "1.5.0",
       "_model_name": "FloatProgressModel",
       "_view_count": null,
       "_view_module": "@jupyter-widgets/controls",
       "_view_module_version": "1.5.0",
       "_view_name": "ProgressView",
       "bar_style": "success",
       "description": "",
       "description_tooltip": null,
       "layout": "IPY_MODEL_a75a3c0aa6e947a582f0bc659d6e4c13",
       "max": 1067935,
       "min": 0,
       "orientation": "horizontal",
       "style": "IPY_MODEL_89a35b37750548ce93d349299028d30a",
       "value": 1067935
      }
     },
     "6ecf402f9d3c43e4ba0fb3a3a4aec6e9": {
      "model_module": "@jupyter-widgets/controls",
      "model_module_version": "1.5.0",
      "model_name": "FloatProgressModel",
      "state": {
       "_dom_classes": [],
       "_model_module": "@jupyter-widgets/controls",
       "_model_module_version": "1.5.0",
       "_model_name": "FloatProgressModel",
       "_view_count": null,
       "_view_module": "@jupyter-widgets/controls",
       "_view_module_version": "1.5.0",
       "_view_name": "ProgressView",
       "bar_style": "success",
       "description": "",
       "description_tooltip": null,
       "layout": "IPY_MODEL_17cd05bbdea94b03a70e3849f47faac2",
       "max": 2097836,
       "min": 0,
       "orientation": "horizontal",
       "style": "IPY_MODEL_932a14317baa44349530e5f5c3774f28",
       "value": 2097836
      }
     },
     "702c522cabaa4ca2b62615088dd9672b": {
      "model_module": "@jupyter-widgets/controls",
      "model_module_version": "1.5.0",
      "model_name": "HTMLModel",
      "state": {
       "_dom_classes": [],
       "_model_module": "@jupyter-widgets/controls",
       "_model_module_version": "1.5.0",
       "_model_name": "HTMLModel",
       "_view_count": null,
       "_view_module": "@jupyter-widgets/controls",
       "_view_module_version": "1.5.0",
       "_view_name": "HTMLView",
       "description": "",
       "description_tooltip": null,
       "layout": "IPY_MODEL_386f4b0677634efe9db34c28c190e453",
       "placeholder": "​",
       "style": "IPY_MODEL_86c1c5af0c1849a8b6d8ae5329deedf8",
       "value": " 1.02M/1.02M [00:00&lt;00:00, 1.65MB/s]"
      }
     },
     "70b2580aa7534f34a28875abaa91e62e": {
      "model_module": "@jupyter-widgets/controls",
      "model_module_version": "1.5.0",
      "model_name": "HTMLModel",
      "state": {
       "_dom_classes": [],
       "_model_module": "@jupyter-widgets/controls",
       "_model_module_version": "1.5.0",
       "_model_name": "HTMLModel",
       "_view_count": null,
       "_view_module": "@jupyter-widgets/controls",
       "_view_module_version": "1.5.0",
       "_view_name": "HTMLView",
       "description": "",
       "description_tooltip": null,
       "layout": "IPY_MODEL_3df4c6d1887d4374a4c8534eaf3fe4fb",
       "placeholder": "​",
       "style": "IPY_MODEL_54cff932345b4d229affa1cb94f885f4",
       "value": " 292M/292M [00:09&lt;00:00, 34.0MB/s]"
      }
     },
     "74865f766d7e4b48960da9e32f0dcb66": {
      "model_module": "@jupyter-widgets/controls",
      "model_module_version": "1.5.0",
      "model_name": "FloatProgressModel",
      "state": {
       "_dom_classes": [],
       "_model_module": "@jupyter-widgets/controls",
       "_model_module_version": "1.5.0",
       "_model_name": "FloatProgressModel",
       "_view_count": null,
       "_view_module": "@jupyter-widgets/controls",
       "_view_module_version": "1.5.0",
       "_view_name": "ProgressView",
       "bar_style": "success",
       "description": "",
       "description_tooltip": null,
       "layout": "IPY_MODEL_621c5c3068f341069ea290e634718f04",
       "max": 812240,
       "min": 0,
       "orientation": "horizontal",
       "style": "IPY_MODEL_8dd8b603d3e14140ae1a3a317e2d1263",
       "value": 812240
      }
     },
     "77939430ad534ba5bc8ebafa50c6dbce": {
      "model_module": "@jupyter-widgets/controls",
      "model_module_version": "1.5.0",
      "model_name": "DescriptionStyleModel",
      "state": {
       "_model_module": "@jupyter-widgets/controls",
       "_model_module_version": "1.5.0",
       "_model_name": "DescriptionStyleModel",
       "_view_count": null,
       "_view_module": "@jupyter-widgets/base",
       "_view_module_version": "1.2.0",
       "_view_name": "StyleView",
       "description_width": ""
      }
     },
     "789a385d607d4070a9cda5617c628743": {
      "model_module": "@jupyter-widgets/controls",
      "model_module_version": "1.5.0",
      "model_name": "HTMLModel",
      "state": {
       "_dom_classes": [],
       "_model_module": "@jupyter-widgets/controls",
       "_model_module_version": "1.5.0",
       "_model_name": "HTMLModel",
       "_view_count": null,
       "_view_module": "@jupyter-widgets/controls",
       "_view_module_version": "1.5.0",
       "_view_name": "HTMLView",
       "description": "",
       "description_tooltip": null,
       "layout": "IPY_MODEL_23769336f0ea4f6eafabb8dbfa7422d3",
       "placeholder": "​",
       "style": "IPY_MODEL_f23a69c2ed9d475ab077ede3c941c428",
       "value": "Downloading: 100%"
      }
     },
     "7d168e89bb064e2fa21ec5629a1c5cd7": {
      "model_module": "@jupyter-widgets/controls",
      "model_module_version": "1.5.0",
      "model_name": "HTMLModel",
      "state": {
       "_dom_classes": [],
       "_model_module": "@jupyter-widgets/controls",
       "_model_module_version": "1.5.0",
       "_model_name": "HTMLModel",
       "_view_count": null,
       "_view_module": "@jupyter-widgets/controls",
       "_view_module_version": "1.5.0",
       "_view_name": "HTMLView",
       "description": "",
       "description_tooltip": null,
       "layout": "IPY_MODEL_18d26b62355c4fd6857d89ea09ba6385",
       "placeholder": "​",
       "style": "IPY_MODEL_2f80655f3f1d4ca3b32e91ed8dc25019",
       "value": "Downloading: 100%"
      }
     },
     "7f3fc34842064ceb8b1b37d160d0ba68": {
      "model_module": "@jupyter-widgets/base",
      "model_module_version": "1.2.0",
      "model_name": "LayoutModel",
      "state": {
       "_model_module": "@jupyter-widgets/base",
       "_model_module_version": "1.2.0",
       "_model_name": "LayoutModel",
       "_view_count": null,
       "_view_module": "@jupyter-widgets/base",
       "_view_module_version": "1.2.0",
       "_view_name": "LayoutView",
       "align_content": null,
       "align_items": null,
       "align_self": null,
       "border": null,
       "bottom": null,
       "display": null,
       "flex": null,
       "flex_flow": null,
       "grid_area": null,
       "grid_auto_columns": null,
       "grid_auto_flow": null,
       "grid_auto_rows": null,
       "grid_column": null,
       "grid_gap": null,
       "grid_row": null,
       "grid_template_areas": null,
       "grid_template_columns": null,
       "grid_template_rows": null,
       "height": null,
       "justify_content": null,
       "justify_items": null,
       "left": null,
       "margin": null,
       "max_height": null,
       "max_width": null,
       "min_height": null,
       "min_width": null,
       "object_fit": null,
       "object_position": null,
       "order": null,
       "overflow": null,
       "overflow_x": null,
       "overflow_y": null,
       "padding": null,
       "right": null,
       "top": null,
       "visibility": null,
       "width": null
      }
     },
     "7fa06bdd446942f793363b6e8ef7c7e8": {
      "model_module": "@jupyter-widgets/controls",
      "model_module_version": "1.5.0",
      "model_name": "DescriptionStyleModel",
      "state": {
       "_model_module": "@jupyter-widgets/controls",
       "_model_module_version": "1.5.0",
       "_model_name": "DescriptionStyleModel",
       "_view_count": null,
       "_view_module": "@jupyter-widgets/base",
       "_view_module_version": "1.2.0",
       "_view_name": "StyleView",
       "description_width": ""
      }
     },
     "7fda85d5f079415da9a4b506b2d78f73": {
      "model_module": "@jupyter-widgets/controls",
      "model_module_version": "1.5.0",
      "model_name": "DescriptionStyleModel",
      "state": {
       "_model_module": "@jupyter-widgets/controls",
       "_model_module_version": "1.5.0",
       "_model_name": "DescriptionStyleModel",
       "_view_count": null,
       "_view_module": "@jupyter-widgets/base",
       "_view_module_version": "1.2.0",
       "_view_name": "StyleView",
       "description_width": ""
      }
     },
     "81d21c6654fa49edab01126c6ddefde2": {
      "model_module": "@jupyter-widgets/controls",
      "model_module_version": "1.5.0",
      "model_name": "FloatProgressModel",
      "state": {
       "_dom_classes": [],
       "_model_module": "@jupyter-widgets/controls",
       "_model_module_version": "1.5.0",
       "_model_name": "FloatProgressModel",
       "_view_count": null,
       "_view_module": "@jupyter-widgets/controls",
       "_view_module_version": "1.5.0",
       "_view_name": "ProgressView",
       "bar_style": "success",
       "description": "",
       "description_tooltip": null,
       "layout": "IPY_MODEL_b7663a97561a48789093903c55986356",
       "max": 2848,
       "min": 0,
       "orientation": "horizontal",
       "style": "IPY_MODEL_1cc2f831018342aab52cd4c38f4db5b3",
       "value": 2848
      }
     },
     "8279b604e54248c4b3898044bff76745": {
      "model_module": "@jupyter-widgets/controls",
      "model_module_version": "1.5.0",
      "model_name": "DescriptionStyleModel",
      "state": {
       "_model_module": "@jupyter-widgets/controls",
       "_model_module_version": "1.5.0",
       "_model_name": "DescriptionStyleModel",
       "_view_count": null,
       "_view_module": "@jupyter-widgets/base",
       "_view_module_version": "1.2.0",
       "_view_name": "StyleView",
       "description_width": ""
      }
     },
     "86c1c5af0c1849a8b6d8ae5329deedf8": {
      "model_module": "@jupyter-widgets/controls",
      "model_module_version": "1.5.0",
      "model_name": "DescriptionStyleModel",
      "state": {
       "_model_module": "@jupyter-widgets/controls",
       "_model_module_version": "1.5.0",
       "_model_name": "DescriptionStyleModel",
       "_view_count": null,
       "_view_module": "@jupyter-widgets/base",
       "_view_module_version": "1.2.0",
       "_view_name": "StyleView",
       "description_width": ""
      }
     },
     "89a35b37750548ce93d349299028d30a": {
      "model_module": "@jupyter-widgets/controls",
      "model_module_version": "1.5.0",
      "model_name": "ProgressStyleModel",
      "state": {
       "_model_module": "@jupyter-widgets/controls",
       "_model_module_version": "1.5.0",
       "_model_name": "ProgressStyleModel",
       "_view_count": null,
       "_view_module": "@jupyter-widgets/base",
       "_view_module_version": "1.2.0",
       "_view_name": "StyleView",
       "bar_color": null,
       "description_width": ""
      }
     },
     "8b3b433dbe2a4b909d41b282c1781a17": {
      "model_module": "@jupyter-widgets/controls",
      "model_module_version": "1.5.0",
      "model_name": "HBoxModel",
      "state": {
       "_dom_classes": [],
       "_model_module": "@jupyter-widgets/controls",
       "_model_module_version": "1.5.0",
       "_model_name": "HBoxModel",
       "_view_count": null,
       "_view_module": "@jupyter-widgets/controls",
       "_view_module_version": "1.5.0",
       "_view_name": "HBoxView",
       "box_style": "",
       "children": [
        "IPY_MODEL_42835069c68347ad99238bb3c9d91b7a",
        "IPY_MODEL_692204ef66b74f8488154307544d7777",
        "IPY_MODEL_702c522cabaa4ca2b62615088dd9672b"
       ],
       "layout": "IPY_MODEL_4a5e523eb2084c7cbbfa19af795c6633"
      }
     },
     "8dd8b603d3e14140ae1a3a317e2d1263": {
      "model_module": "@jupyter-widgets/controls",
      "model_module_version": "1.5.0",
      "model_name": "ProgressStyleModel",
      "state": {
       "_model_module": "@jupyter-widgets/controls",
       "_model_module_version": "1.5.0",
       "_model_name": "ProgressStyleModel",
       "_view_count": null,
       "_view_module": "@jupyter-widgets/base",
       "_view_module_version": "1.2.0",
       "_view_name": "StyleView",
       "bar_color": null,
       "description_width": ""
      }
     },
     "9233eb80ecc54ebfb023b2e36c813be3": {
      "model_module": "@jupyter-widgets/controls",
      "model_module_version": "1.5.0",
      "model_name": "DescriptionStyleModel",
      "state": {
       "_model_module": "@jupyter-widgets/controls",
       "_model_module_version": "1.5.0",
       "_model_name": "DescriptionStyleModel",
       "_view_count": null,
       "_view_module": "@jupyter-widgets/base",
       "_view_module_version": "1.2.0",
       "_view_name": "StyleView",
       "description_width": ""
      }
     },
     "9243c2c72b974658b965f9a02cf15ee4": {
      "model_module": "@jupyter-widgets/controls",
      "model_module_version": "1.5.0",
      "model_name": "HTMLModel",
      "state": {
       "_dom_classes": [],
       "_model_module": "@jupyter-widgets/controls",
       "_model_module_version": "1.5.0",
       "_model_name": "HTMLModel",
       "_view_count": null,
       "_view_module": "@jupyter-widgets/controls",
       "_view_module_version": "1.5.0",
       "_view_name": "HTMLView",
       "description": "",
       "description_tooltip": null,
       "layout": "IPY_MODEL_bccd29bf8b6e4964bd8bcad724291193",
       "placeholder": "​",
       "style": "IPY_MODEL_9233eb80ecc54ebfb023b2e36c813be3",
       "value": " 793k/793k [00:00&lt;00:00, 2.27MB/s]"
      }
     },
     "932a14317baa44349530e5f5c3774f28": {
      "model_module": "@jupyter-widgets/controls",
      "model_module_version": "1.5.0",
      "model_name": "ProgressStyleModel",
      "state": {
       "_model_module": "@jupyter-widgets/controls",
       "_model_module_version": "1.5.0",
       "_model_name": "ProgressStyleModel",
       "_view_count": null,
       "_view_module": "@jupyter-widgets/base",
       "_view_module_version": "1.2.0",
       "_view_name": "StyleView",
       "bar_color": null,
       "description_width": ""
      }
     },
     "98f0f96b51554848bdf5ad2dff02443e": {
      "model_module": "@jupyter-widgets/base",
      "model_module_version": "1.2.0",
      "model_name": "LayoutModel",
      "state": {
       "_model_module": "@jupyter-widgets/base",
       "_model_module_version": "1.2.0",
       "_model_name": "LayoutModel",
       "_view_count": null,
       "_view_module": "@jupyter-widgets/base",
       "_view_module_version": "1.2.0",
       "_view_name": "LayoutView",
       "align_content": null,
       "align_items": null,
       "align_self": null,
       "border": null,
       "bottom": null,
       "display": null,
       "flex": null,
       "flex_flow": null,
       "grid_area": null,
       "grid_auto_columns": null,
       "grid_auto_flow": null,
       "grid_auto_rows": null,
       "grid_column": null,
       "grid_gap": null,
       "grid_row": null,
       "grid_template_areas": null,
       "grid_template_columns": null,
       "grid_template_rows": null,
       "height": null,
       "justify_content": null,
       "justify_items": null,
       "left": null,
       "margin": null,
       "max_height": null,
       "max_width": null,
       "min_height": null,
       "min_width": null,
       "object_fit": null,
       "object_position": null,
       "order": null,
       "overflow": null,
       "overflow_x": null,
       "overflow_y": null,
       "padding": null,
       "right": null,
       "top": null,
       "visibility": null,
       "width": null
      }
     },
     "9c7cc72babf249338a5ec563c453ff23": {
      "model_module": "@jupyter-widgets/base",
      "model_module_version": "1.2.0",
      "model_name": "LayoutModel",
      "state": {
       "_model_module": "@jupyter-widgets/base",
       "_model_module_version": "1.2.0",
       "_model_name": "LayoutModel",
       "_view_count": null,
       "_view_module": "@jupyter-widgets/base",
       "_view_module_version": "1.2.0",
       "_view_name": "LayoutView",
       "align_content": null,
       "align_items": null,
       "align_self": null,
       "border": null,
       "bottom": null,
       "display": null,
       "flex": null,
       "flex_flow": null,
       "grid_area": null,
       "grid_auto_columns": null,
       "grid_auto_flow": null,
       "grid_auto_rows": null,
       "grid_column": null,
       "grid_gap": null,
       "grid_row": null,
       "grid_template_areas": null,
       "grid_template_columns": null,
       "grid_template_rows": null,
       "height": null,
       "justify_content": null,
       "justify_items": null,
       "left": null,
       "margin": null,
       "max_height": null,
       "max_width": null,
       "min_height": null,
       "min_width": null,
       "object_fit": null,
       "object_position": null,
       "order": null,
       "overflow": null,
       "overflow_x": null,
       "overflow_y": null,
       "padding": null,
       "right": null,
       "top": null,
       "visibility": null,
       "width": null
      }
     },
     "a48f70609efa4f4b8f0071b8a049d474": {
      "model_module": "@jupyter-widgets/controls",
      "model_module_version": "1.5.0",
      "model_name": "DescriptionStyleModel",
      "state": {
       "_model_module": "@jupyter-widgets/controls",
       "_model_module_version": "1.5.0",
       "_model_name": "DescriptionStyleModel",
       "_view_count": null,
       "_view_module": "@jupyter-widgets/base",
       "_view_module_version": "1.2.0",
       "_view_name": "StyleView",
       "description_width": ""
      }
     },
     "a75a3c0aa6e947a582f0bc659d6e4c13": {
      "model_module": "@jupyter-widgets/base",
      "model_module_version": "1.2.0",
      "model_name": "LayoutModel",
      "state": {
       "_model_module": "@jupyter-widgets/base",
       "_model_module_version": "1.2.0",
       "_model_name": "LayoutModel",
       "_view_count": null,
       "_view_module": "@jupyter-widgets/base",
       "_view_module_version": "1.2.0",
       "_view_name": "LayoutView",
       "align_content": null,
       "align_items": null,
       "align_self": null,
       "border": null,
       "bottom": null,
       "display": null,
       "flex": null,
       "flex_flow": null,
       "grid_area": null,
       "grid_auto_columns": null,
       "grid_auto_flow": null,
       "grid_auto_rows": null,
       "grid_column": null,
       "grid_gap": null,
       "grid_row": null,
       "grid_template_areas": null,
       "grid_template_columns": null,
       "grid_template_rows": null,
       "height": null,
       "justify_content": null,
       "justify_items": null,
       "left": null,
       "margin": null,
       "max_height": null,
       "max_width": null,
       "min_height": null,
       "min_width": null,
       "object_fit": null,
       "object_position": null,
       "order": null,
       "overflow": null,
       "overflow_x": null,
       "overflow_y": null,
       "padding": null,
       "right": null,
       "top": null,
       "visibility": null,
       "width": null
      }
     },
     "ac54731e89ed434193f8739f044cec77": {
      "model_module": "@jupyter-widgets/controls",
      "model_module_version": "1.5.0",
      "model_name": "HTMLModel",
      "state": {
       "_dom_classes": [],
       "_model_module": "@jupyter-widgets/controls",
       "_model_module_version": "1.5.0",
       "_model_name": "HTMLModel",
       "_view_count": null,
       "_view_module": "@jupyter-widgets/controls",
       "_view_module_version": "1.5.0",
       "_view_name": "HTMLView",
       "description": "",
       "description_tooltip": null,
       "layout": "IPY_MODEL_3b8526ba308e44a097154afe487e5dba",
       "placeholder": "​",
       "style": "IPY_MODEL_01db3b18c83b4849a163f9d4a365ed90",
       "value": " 2.00M/2.00M [00:00&lt;00:00, 2.29MB/s]"
      }
     },
     "b035ead8f490481ebf9711e3968d904b": {
      "model_module": "@jupyter-widgets/base",
      "model_module_version": "1.2.0",
      "model_name": "LayoutModel",
      "state": {
       "_model_module": "@jupyter-widgets/base",
       "_model_module_version": "1.2.0",
       "_model_name": "LayoutModel",
       "_view_count": null,
       "_view_module": "@jupyter-widgets/base",
       "_view_module_version": "1.2.0",
       "_view_name": "LayoutView",
       "align_content": null,
       "align_items": null,
       "align_self": null,
       "border": null,
       "bottom": null,
       "display": null,
       "flex": null,
       "flex_flow": null,
       "grid_area": null,
       "grid_auto_columns": null,
       "grid_auto_flow": null,
       "grid_auto_rows": null,
       "grid_column": null,
       "grid_gap": null,
       "grid_row": null,
       "grid_template_areas": null,
       "grid_template_columns": null,
       "grid_template_rows": null,
       "height": null,
       "justify_content": null,
       "justify_items": null,
       "left": null,
       "margin": null,
       "max_height": null,
       "max_width": null,
       "min_height": null,
       "min_width": null,
       "object_fit": null,
       "object_position": null,
       "order": null,
       "overflow": null,
       "overflow_x": null,
       "overflow_y": null,
       "padding": null,
       "right": null,
       "top": null,
       "visibility": null,
       "width": null
      }
     },
     "b7663a97561a48789093903c55986356": {
      "model_module": "@jupyter-widgets/base",
      "model_module_version": "1.2.0",
      "model_name": "LayoutModel",
      "state": {
       "_model_module": "@jupyter-widgets/base",
       "_model_module_version": "1.2.0",
       "_model_name": "LayoutModel",
       "_view_count": null,
       "_view_module": "@jupyter-widgets/base",
       "_view_module_version": "1.2.0",
       "_view_name": "LayoutView",
       "align_content": null,
       "align_items": null,
       "align_self": null,
       "border": null,
       "bottom": null,
       "display": null,
       "flex": null,
       "flex_flow": null,
       "grid_area": null,
       "grid_auto_columns": null,
       "grid_auto_flow": null,
       "grid_auto_rows": null,
       "grid_column": null,
       "grid_gap": null,
       "grid_row": null,
       "grid_template_areas": null,
       "grid_template_columns": null,
       "grid_template_rows": null,
       "height": null,
       "justify_content": null,
       "justify_items": null,
       "left": null,
       "margin": null,
       "max_height": null,
       "max_width": null,
       "min_height": null,
       "min_width": null,
       "object_fit": null,
       "object_position": null,
       "order": null,
       "overflow": null,
       "overflow_x": null,
       "overflow_y": null,
       "padding": null,
       "right": null,
       "top": null,
       "visibility": null,
       "width": null
      }
     },
     "b861a5b2156044f6a85444ac0de9b086": {
      "model_module": "@jupyter-widgets/controls",
      "model_module_version": "1.5.0",
      "model_name": "HTMLModel",
      "state": {
       "_dom_classes": [],
       "_model_module": "@jupyter-widgets/controls",
       "_model_module_version": "1.5.0",
       "_model_name": "HTMLModel",
       "_view_count": null,
       "_view_module": "@jupyter-widgets/controls",
       "_view_module_version": "1.5.0",
       "_view_name": "HTMLView",
       "description": "",
       "description_tooltip": null,
       "layout": "IPY_MODEL_7f3fc34842064ceb8b1b37d160d0ba68",
       "placeholder": "​",
       "style": "IPY_MODEL_77939430ad534ba5bc8ebafa50c6dbce",
       "value": " 7.65k/? [00:00&lt;00:00, 200kB/s]"
      }
     },
     "b9869770b63e4c6b9e03569ff281c7c0": {
      "model_module": "@jupyter-widgets/controls",
      "model_module_version": "1.5.0",
      "model_name": "FloatProgressModel",
      "state": {
       "_dom_classes": [],
       "_model_module": "@jupyter-widgets/controls",
       "_model_module_version": "1.5.0",
       "_model_name": "FloatProgressModel",
       "_view_count": null,
       "_view_module": "@jupyter-widgets/controls",
       "_view_module_version": "1.5.0",
       "_view_name": "ProgressView",
       "bar_style": "success",
       "description": "",
       "description_tooltip": null,
       "layout": "IPY_MODEL_573819d5842549189fb1f091390134b7",
       "max": 1145,
       "min": 0,
       "orientation": "horizontal",
       "style": "IPY_MODEL_1cf049da380b43dba02406ae2784e3b1",
       "value": 1145
      }
     },
     "bccd29bf8b6e4964bd8bcad724291193": {
      "model_module": "@jupyter-widgets/base",
      "model_module_version": "1.2.0",
      "model_name": "LayoutModel",
      "state": {
       "_model_module": "@jupyter-widgets/base",
       "_model_module_version": "1.2.0",
       "_model_name": "LayoutModel",
       "_view_count": null,
       "_view_module": "@jupyter-widgets/base",
       "_view_module_version": "1.2.0",
       "_view_name": "LayoutView",
       "align_content": null,
       "align_items": null,
       "align_self": null,
       "border": null,
       "bottom": null,
       "display": null,
       "flex": null,
       "flex_flow": null,
       "grid_area": null,
       "grid_auto_columns": null,
       "grid_auto_flow": null,
       "grid_auto_rows": null,
       "grid_column": null,
       "grid_gap": null,
       "grid_row": null,
       "grid_template_areas": null,
       "grid_template_columns": null,
       "grid_template_rows": null,
       "height": null,
       "justify_content": null,
       "justify_items": null,
       "left": null,
       "margin": null,
       "max_height": null,
       "max_width": null,
       "min_height": null,
       "min_width": null,
       "object_fit": null,
       "object_position": null,
       "order": null,
       "overflow": null,
       "overflow_x": null,
       "overflow_y": null,
       "padding": null,
       "right": null,
       "top": null,
       "visibility": null,
       "width": null
      }
     },
     "bd6ed9f5c2be4dd18a11aaab4530ac64": {
      "model_module": "@jupyter-widgets/controls",
      "model_module_version": "1.5.0",
      "model_name": "HBoxModel",
      "state": {
       "_dom_classes": [],
       "_model_module": "@jupyter-widgets/controls",
       "_model_module_version": "1.5.0",
       "_model_name": "HBoxModel",
       "_view_count": null,
       "_view_module": "@jupyter-widgets/controls",
       "_view_module_version": "1.5.0",
       "_view_name": "HBoxView",
       "box_style": "",
       "children": [
        "IPY_MODEL_e383fc2289274df590dfad5c47c54c89",
        "IPY_MODEL_b9869770b63e4c6b9e03569ff281c7c0",
        "IPY_MODEL_2f0f1c83c6e24d70bc38c62b6904f15e"
       ],
       "layout": "IPY_MODEL_98f0f96b51554848bdf5ad2dff02443e"
      }
     },
     "bd99371321fd4f4abb6ac273c91b56a6": {
      "model_module": "@jupyter-widgets/controls",
      "model_module_version": "1.5.0",
      "model_name": "HBoxModel",
      "state": {
       "_dom_classes": [],
       "_model_module": "@jupyter-widgets/controls",
       "_model_module_version": "1.5.0",
       "_model_name": "HBoxModel",
       "_view_count": null,
       "_view_module": "@jupyter-widgets/controls",
       "_view_module_version": "1.5.0",
       "_view_name": "HBoxView",
       "box_style": "",
       "children": [
        "IPY_MODEL_d0112dc2bc6c4b4a8c429fe3d038d5ef",
        "IPY_MODEL_1759f93aa7a349b693c473c6df4381fc",
        "IPY_MODEL_5097bce915be467fbf2bbe5884416f8b"
       ],
       "layout": "IPY_MODEL_cb0f8d0380264e2fb3f8228595693d6e"
      }
     },
     "be3c8a9d84534bd58e4ff30ff6cc9a42": {
      "model_module": "@jupyter-widgets/base",
      "model_module_version": "1.2.0",
      "model_name": "LayoutModel",
      "state": {
       "_model_module": "@jupyter-widgets/base",
       "_model_module_version": "1.2.0",
       "_model_name": "LayoutModel",
       "_view_count": null,
       "_view_module": "@jupyter-widgets/base",
       "_view_module_version": "1.2.0",
       "_view_name": "LayoutView",
       "align_content": null,
       "align_items": null,
       "align_self": null,
       "border": null,
       "bottom": null,
       "display": null,
       "flex": null,
       "flex_flow": null,
       "grid_area": null,
       "grid_auto_columns": null,
       "grid_auto_flow": null,
       "grid_auto_rows": null,
       "grid_column": null,
       "grid_gap": null,
       "grid_row": null,
       "grid_template_areas": null,
       "grid_template_columns": null,
       "grid_template_rows": null,
       "height": null,
       "justify_content": null,
       "justify_items": null,
       "left": null,
       "margin": null,
       "max_height": null,
       "max_width": null,
       "min_height": null,
       "min_width": null,
       "object_fit": null,
       "object_position": null,
       "order": null,
       "overflow": null,
       "overflow_x": null,
       "overflow_y": null,
       "padding": null,
       "right": null,
       "top": null,
       "visibility": null,
       "width": null
      }
     },
     "c6b9120df70346698147b0996bb1efdf": {
      "model_module": "@jupyter-widgets/base",
      "model_module_version": "1.2.0",
      "model_name": "LayoutModel",
      "state": {
       "_model_module": "@jupyter-widgets/base",
       "_model_module_version": "1.2.0",
       "_model_name": "LayoutModel",
       "_view_count": null,
       "_view_module": "@jupyter-widgets/base",
       "_view_module_version": "1.2.0",
       "_view_name": "LayoutView",
       "align_content": null,
       "align_items": null,
       "align_self": null,
       "border": null,
       "bottom": null,
       "display": null,
       "flex": null,
       "flex_flow": null,
       "grid_area": null,
       "grid_auto_columns": null,
       "grid_auto_flow": null,
       "grid_auto_rows": null,
       "grid_column": null,
       "grid_gap": null,
       "grid_row": null,
       "grid_template_areas": null,
       "grid_template_columns": null,
       "grid_template_rows": null,
       "height": null,
       "justify_content": null,
       "justify_items": null,
       "left": null,
       "margin": null,
       "max_height": null,
       "max_width": null,
       "min_height": null,
       "min_width": null,
       "object_fit": null,
       "object_position": null,
       "order": null,
       "overflow": null,
       "overflow_x": null,
       "overflow_y": null,
       "padding": null,
       "right": null,
       "top": null,
       "visibility": null,
       "width": null
      }
     },
     "cb0f8d0380264e2fb3f8228595693d6e": {
      "model_module": "@jupyter-widgets/base",
      "model_module_version": "1.2.0",
      "model_name": "LayoutModel",
      "state": {
       "_model_module": "@jupyter-widgets/base",
       "_model_module_version": "1.2.0",
       "_model_name": "LayoutModel",
       "_view_count": null,
       "_view_module": "@jupyter-widgets/base",
       "_view_module_version": "1.2.0",
       "_view_name": "LayoutView",
       "align_content": null,
       "align_items": null,
       "align_self": null,
       "border": null,
       "bottom": null,
       "display": null,
       "flex": null,
       "flex_flow": null,
       "grid_area": null,
       "grid_auto_columns": null,
       "grid_auto_flow": null,
       "grid_auto_rows": null,
       "grid_column": null,
       "grid_gap": null,
       "grid_row": null,
       "grid_template_areas": null,
       "grid_template_columns": null,
       "grid_template_rows": null,
       "height": null,
       "justify_content": null,
       "justify_items": null,
       "left": null,
       "margin": null,
       "max_height": null,
       "max_width": null,
       "min_height": null,
       "min_width": null,
       "object_fit": null,
       "object_position": null,
       "order": null,
       "overflow": null,
       "overflow_x": null,
       "overflow_y": null,
       "padding": null,
       "right": null,
       "top": null,
       "visibility": null,
       "width": null
      }
     },
     "cf8667b9403c48a7b7aceaea61f47004": {
      "model_module": "@jupyter-widgets/controls",
      "model_module_version": "1.5.0",
      "model_name": "HBoxModel",
      "state": {
       "_dom_classes": [],
       "_model_module": "@jupyter-widgets/controls",
       "_model_module_version": "1.5.0",
       "_model_name": "HBoxModel",
       "_view_count": null,
       "_view_module": "@jupyter-widgets/controls",
       "_view_module_version": "1.5.0",
       "_view_name": "HBoxView",
       "box_style": "",
       "children": [
        "IPY_MODEL_7d168e89bb064e2fa21ec5629a1c5cd7",
        "IPY_MODEL_74865f766d7e4b48960da9e32f0dcb66",
        "IPY_MODEL_9243c2c72b974658b965f9a02cf15ee4"
       ],
       "layout": "IPY_MODEL_c6b9120df70346698147b0996bb1efdf"
      }
     },
     "d0112dc2bc6c4b4a8c429fe3d038d5ef": {
      "model_module": "@jupyter-widgets/controls",
      "model_module_version": "1.5.0",
      "model_name": "HTMLModel",
      "state": {
       "_dom_classes": [],
       "_model_module": "@jupyter-widgets/controls",
       "_model_module_version": "1.5.0",
       "_model_name": "HTMLModel",
       "_view_count": null,
       "_view_module": "@jupyter-widgets/controls",
       "_view_module_version": "1.5.0",
       "_view_name": "HTMLView",
       "description": "",
       "description_tooltip": null,
       "layout": "IPY_MODEL_5cd82bf7f86843caa49825fc0dec5581",
       "placeholder": "​",
       "style": "IPY_MODEL_8279b604e54248c4b3898044bff76745",
       "value": "Downloading: 100%"
      }
     },
     "d207bca71e4142cd8b61cade6af8bbe3": {
      "model_module": "@jupyter-widgets/controls",
      "model_module_version": "1.5.0",
      "model_name": "HBoxModel",
      "state": {
       "_dom_classes": [],
       "_model_module": "@jupyter-widgets/controls",
       "_model_module_version": "1.5.0",
       "_model_name": "HBoxModel",
       "_view_count": null,
       "_view_module": "@jupyter-widgets/controls",
       "_view_module_version": "1.5.0",
       "_view_name": "HBoxView",
       "box_style": "",
       "children": [
        "IPY_MODEL_e4269212b3f246d88fc3f6bd48889415",
        "IPY_MODEL_81d21c6654fa49edab01126c6ddefde2",
        "IPY_MODEL_b861a5b2156044f6a85444ac0de9b086"
       ],
       "layout": "IPY_MODEL_f06f9e54c3b44bacb0d9b175ed5aa637"
      }
     },
     "dd82679733b346a694456d88955bd01f": {
      "model_module": "@jupyter-widgets/controls",
      "model_module_version": "1.5.0",
      "model_name": "HBoxModel",
      "state": {
       "_dom_classes": [],
       "_model_module": "@jupyter-widgets/controls",
       "_model_module_version": "1.5.0",
       "_model_name": "HBoxModel",
       "_view_count": null,
       "_view_module": "@jupyter-widgets/controls",
       "_view_module_version": "1.5.0",
       "_view_name": "HBoxView",
       "box_style": "",
       "children": [
        "IPY_MODEL_f6e858f11bd640e1810fd465037876ad",
        "IPY_MODEL_6ecf402f9d3c43e4ba0fb3a3a4aec6e9",
        "IPY_MODEL_ac54731e89ed434193f8739f044cec77"
       ],
       "layout": "IPY_MODEL_413fcba358094632ad35048fbc635327"
      }
     },
     "de2b13641a0b44918a6b4dc4dc23203e": {
      "model_module": "@jupyter-widgets/base",
      "model_module_version": "1.2.0",
      "model_name": "LayoutModel",
      "state": {
       "_model_module": "@jupyter-widgets/base",
       "_model_module_version": "1.2.0",
       "_model_name": "LayoutModel",
       "_view_count": null,
       "_view_module": "@jupyter-widgets/base",
       "_view_module_version": "1.2.0",
       "_view_name": "LayoutView",
       "align_content": null,
       "align_items": null,
       "align_self": null,
       "border": null,
       "bottom": null,
       "display": null,
       "flex": null,
       "flex_flow": null,
       "grid_area": null,
       "grid_auto_columns": null,
       "grid_auto_flow": null,
       "grid_auto_rows": null,
       "grid_column": null,
       "grid_gap": null,
       "grid_row": null,
       "grid_template_areas": null,
       "grid_template_columns": null,
       "grid_template_rows": null,
       "height": null,
       "justify_content": null,
       "justify_items": null,
       "left": null,
       "margin": null,
       "max_height": null,
       "max_width": null,
       "min_height": null,
       "min_width": null,
       "object_fit": null,
       "object_position": null,
       "order": null,
       "overflow": null,
       "overflow_x": null,
       "overflow_y": null,
       "padding": null,
       "right": null,
       "top": null,
       "visibility": null,
       "width": null
      }
     },
     "e383fc2289274df590dfad5c47c54c89": {
      "model_module": "@jupyter-widgets/controls",
      "model_module_version": "1.5.0",
      "model_name": "HTMLModel",
      "state": {
       "_dom_classes": [],
       "_model_module": "@jupyter-widgets/controls",
       "_model_module_version": "1.5.0",
       "_model_name": "HTMLModel",
       "_view_count": null,
       "_view_module": "@jupyter-widgets/controls",
       "_view_module_version": "1.5.0",
       "_view_name": "HTMLView",
       "description": "",
       "description_tooltip": null,
       "layout": "IPY_MODEL_5a0df400466a4963a0cd1f87cd9adb4e",
       "placeholder": "​",
       "style": "IPY_MODEL_7fda85d5f079415da9a4b506b2d78f73",
       "value": "Downloading: 100%"
      }
     },
     "e4269212b3f246d88fc3f6bd48889415": {
      "model_module": "@jupyter-widgets/controls",
      "model_module_version": "1.5.0",
      "model_name": "HTMLModel",
      "state": {
       "_dom_classes": [],
       "_model_module": "@jupyter-widgets/controls",
       "_model_module_version": "1.5.0",
       "_model_name": "HTMLModel",
       "_view_count": null,
       "_view_module": "@jupyter-widgets/controls",
       "_view_module_version": "1.5.0",
       "_view_name": "HTMLView",
       "description": "",
       "description_tooltip": null,
       "layout": "IPY_MODEL_2d65bc28a17e46e5a5a331a1c3812ce8",
       "placeholder": "​",
       "style": "IPY_MODEL_25f23355b5b641ceafdc3c5df520578c",
       "value": "Downloading builder script: "
      }
     },
     "e490982599454d00a59ecd4105180f9f": {
      "model_module": "@jupyter-widgets/base",
      "model_module_version": "1.2.0",
      "model_name": "LayoutModel",
      "state": {
       "_model_module": "@jupyter-widgets/base",
       "_model_module_version": "1.2.0",
       "_model_name": "LayoutModel",
       "_view_count": null,
       "_view_module": "@jupyter-widgets/base",
       "_view_module_version": "1.2.0",
       "_view_name": "LayoutView",
       "align_content": null,
       "align_items": null,
       "align_self": null,
       "border": null,
       "bottom": null,
       "display": null,
       "flex": null,
       "flex_flow": null,
       "grid_area": null,
       "grid_auto_columns": null,
       "grid_auto_flow": null,
       "grid_auto_rows": null,
       "grid_column": null,
       "grid_gap": null,
       "grid_row": null,
       "grid_template_areas": null,
       "grid_template_columns": null,
       "grid_template_rows": null,
       "height": null,
       "justify_content": null,
       "justify_items": null,
       "left": null,
       "margin": null,
       "max_height": null,
       "max_width": null,
       "min_height": null,
       "min_width": null,
       "object_fit": null,
       "object_position": null,
       "order": null,
       "overflow": null,
       "overflow_x": null,
       "overflow_y": null,
       "padding": null,
       "right": null,
       "top": null,
       "visibility": null,
       "width": null
      }
     },
     "eb5e562b574c40b29b798f580a17fc65": {
      "model_module": "@jupyter-widgets/controls",
      "model_module_version": "1.5.0",
      "model_name": "FloatProgressModel",
      "state": {
       "_dom_classes": [],
       "_model_module": "@jupyter-widgets/controls",
       "_model_module_version": "1.5.0",
       "_model_name": "FloatProgressModel",
       "_view_count": null,
       "_view_module": "@jupyter-widgets/controls",
       "_view_module_version": "1.5.0",
       "_view_name": "ProgressView",
       "bar_style": "success",
       "description": "",
       "description_tooltip": null,
       "layout": "IPY_MODEL_e490982599454d00a59ecd4105180f9f",
       "max": 305826357,
       "min": 0,
       "orientation": "horizontal",
       "style": "IPY_MODEL_3c79d41111e045c6ae99bed73eaa218e",
       "value": 305826357
      }
     },
     "edd88f088a5841459b3850a5a597b4b8": {
      "model_module": "@jupyter-widgets/controls",
      "model_module_version": "1.5.0",
      "model_name": "ProgressStyleModel",
      "state": {
       "_model_module": "@jupyter-widgets/controls",
       "_model_module_version": "1.5.0",
       "_model_name": "ProgressStyleModel",
       "_view_count": null,
       "_view_module": "@jupyter-widgets/base",
       "_view_module_version": "1.2.0",
       "_view_name": "StyleView",
       "bar_color": null,
       "description_width": ""
      }
     },
     "f06f9e54c3b44bacb0d9b175ed5aa637": {
      "model_module": "@jupyter-widgets/base",
      "model_module_version": "1.2.0",
      "model_name": "LayoutModel",
      "state": {
       "_model_module": "@jupyter-widgets/base",
       "_model_module_version": "1.2.0",
       "_model_name": "LayoutModel",
       "_view_count": null,
       "_view_module": "@jupyter-widgets/base",
       "_view_module_version": "1.2.0",
       "_view_name": "LayoutView",
       "align_content": null,
       "align_items": null,
       "align_self": null,
       "border": null,
       "bottom": null,
       "display": null,
       "flex": null,
       "flex_flow": null,
       "grid_area": null,
       "grid_auto_columns": null,
       "grid_auto_flow": null,
       "grid_auto_rows": null,
       "grid_column": null,
       "grid_gap": null,
       "grid_row": null,
       "grid_template_areas": null,
       "grid_template_columns": null,
       "grid_template_rows": null,
       "height": null,
       "justify_content": null,
       "justify_items": null,
       "left": null,
       "margin": null,
       "max_height": null,
       "max_width": null,
       "min_height": null,
       "min_width": null,
       "object_fit": null,
       "object_position": null,
       "order": null,
       "overflow": null,
       "overflow_x": null,
       "overflow_y": null,
       "padding": null,
       "right": null,
       "top": null,
       "visibility": null,
       "width": null
      }
     },
     "f23a69c2ed9d475ab077ede3c941c428": {
      "model_module": "@jupyter-widgets/controls",
      "model_module_version": "1.5.0",
      "model_name": "DescriptionStyleModel",
      "state": {
       "_model_module": "@jupyter-widgets/controls",
       "_model_module_version": "1.5.0",
       "_model_name": "DescriptionStyleModel",
       "_view_count": null,
       "_view_module": "@jupyter-widgets/base",
       "_view_module_version": "1.2.0",
       "_view_name": "StyleView",
       "description_width": ""
      }
     },
     "f6e858f11bd640e1810fd465037876ad": {
      "model_module": "@jupyter-widgets/controls",
      "model_module_version": "1.5.0",
      "model_name": "HTMLModel",
      "state": {
       "_dom_classes": [],
       "_model_module": "@jupyter-widgets/controls",
       "_model_module_version": "1.5.0",
       "_model_name": "HTMLModel",
       "_view_count": null,
       "_view_module": "@jupyter-widgets/controls",
       "_view_module_version": "1.5.0",
       "_view_name": "HTMLView",
       "description": "",
       "description_tooltip": null,
       "layout": "IPY_MODEL_be3c8a9d84534bd58e4ff30ff6cc9a42",
       "placeholder": "​",
       "style": "IPY_MODEL_147c2aad16e441b78a038eb2393891f1",
       "value": "Downloading: 100%"
      }
     }
    },
    "version_major": 2,
    "version_minor": 0
   }
  }
 },
 "nbformat": 4,
 "nbformat_minor": 5
}
